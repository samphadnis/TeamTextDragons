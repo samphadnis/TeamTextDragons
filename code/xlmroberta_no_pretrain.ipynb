{
 "cells": [
  {
   "cell_type": "code",
   "execution_count": null,
   "metadata": {
    "colab": {
     "base_uri": "https://localhost:8080/"
    },
    "id": "wOsKIIIkh5pB",
    "outputId": "7d4b55cf-9adb-4717-c827-e1889daea4f6"
   },
   "outputs": [
    {
     "name": "stdout",
     "output_type": "stream",
     "text": [
      "Mounted at /content/drive\n"
     ]
    }
   ],
   "source": [
    "from google.colab import drive\n",
    "drive.mount('/content/drive')"
   ]
  },
  {
   "cell_type": "code",
   "execution_count": null,
   "metadata": {
    "colab": {
     "base_uri": "https://localhost:8080/"
    },
    "id": "QTxAdAmYiPY7",
    "outputId": "6a8ad4b8-a445-419c-e3d5-3c91f0f22879"
   },
   "outputs": [
    {
     "name": "stdout",
     "output_type": "stream",
     "text": [
      "/content/drive/My Drive/Colab Notebooks/TextClassification\n"
     ]
    }
   ],
   "source": [
    "%cd /content/drive/My Drive/Colab Notebooks/TextClassification"
   ]
  },
  {
   "cell_type": "code",
   "execution_count": null,
   "metadata": {
    "colab": {
     "base_uri": "https://localhost:8080/"
    },
    "id": "yn-mG1rMiiMY",
    "outputId": "5a3e6425-b09f-4cfe-bfc8-e5f5dd2f2f06"
   },
   "outputs": [
    {
     "name": "stdout",
     "output_type": "stream",
     "text": [
      "Collecting pytorch-transformers\n",
      "\u001b[?25l  Downloading https://files.pythonhosted.org/packages/a3/b7/d3d18008a67e0b968d1ab93ad444fc05699403fa662f634b2f2c318a508b/pytorch_transformers-1.2.0-py3-none-any.whl (176kB)\n",
      "\r",
      "\u001b[K     |█▉                              | 10kB 24.0MB/s eta 0:00:01\r",
      "\u001b[K     |███▊                            | 20kB 17.5MB/s eta 0:00:01\r",
      "\u001b[K     |█████▋                          | 30kB 15.4MB/s eta 0:00:01\r",
      "\u001b[K     |███████▍                        | 40kB 14.1MB/s eta 0:00:01\r",
      "\u001b[K     |█████████▎                      | 51kB 11.7MB/s eta 0:00:01\r",
      "\u001b[K     |███████████▏                    | 61kB 11.9MB/s eta 0:00:01\r",
      "\u001b[K     |█████████████                   | 71kB 11.6MB/s eta 0:00:01\r",
      "\u001b[K     |██████████████▉                 | 81kB 11.9MB/s eta 0:00:01\r",
      "\u001b[K     |████████████████▊               | 92kB 11.7MB/s eta 0:00:01\r",
      "\u001b[K     |██████████████████▋             | 102kB 11.7MB/s eta 0:00:01\r",
      "\u001b[K     |████████████████████▍           | 112kB 11.7MB/s eta 0:00:01\r",
      "\u001b[K     |██████████████████████▎         | 122kB 11.7MB/s eta 0:00:01\r",
      "\u001b[K     |████████████████████████▏       | 133kB 11.7MB/s eta 0:00:01\r",
      "\u001b[K     |██████████████████████████      | 143kB 11.7MB/s eta 0:00:01\r",
      "\u001b[K     |███████████████████████████▉    | 153kB 11.7MB/s eta 0:00:01\r",
      "\u001b[K     |█████████████████████████████▊  | 163kB 11.7MB/s eta 0:00:01\r",
      "\u001b[K     |███████████████████████████████▋| 174kB 11.7MB/s eta 0:00:01\r",
      "\u001b[K     |████████████████████████████████| 184kB 11.7MB/s \n",
      "\u001b[?25hCollecting sentencepiece\n",
      "\u001b[?25l  Downloading https://files.pythonhosted.org/packages/e5/2d/6d4ca4bef9a67070fa1cac508606328329152b1df10bdf31fb6e4e727894/sentencepiece-0.1.94-cp36-cp36m-manylinux2014_x86_64.whl (1.1MB)\n",
      "\u001b[K     |████████████████████████████████| 1.1MB 12.7MB/s \n",
      "\u001b[?25hCollecting sacremoses\n",
      "\u001b[?25l  Downloading https://files.pythonhosted.org/packages/7d/34/09d19aff26edcc8eb2a01bed8e98f13a1537005d31e95233fd48216eed10/sacremoses-0.0.43.tar.gz (883kB)\n",
      "\u001b[K     |████████████████████████████████| 890kB 54.4MB/s \n",
      "\u001b[?25hRequirement already satisfied: torch>=1.0.0 in /usr/local/lib/python3.6/dist-packages (from pytorch-transformers) (1.7.0+cu101)\n",
      "Collecting boto3\n",
      "\u001b[?25l  Downloading https://files.pythonhosted.org/packages/76/69/1ae307bbfbc3df15778ad1568f9b2def472fbcc07ec81479d148370abf89/boto3-1.16.33.tar.gz (97kB)\n",
      "\u001b[K     |████████████████████████████████| 102kB 12.1MB/s \n",
      "\u001b[?25hRequirement already satisfied: tqdm in /usr/local/lib/python3.6/dist-packages (from pytorch-transformers) (4.41.1)\n",
      "Requirement already satisfied: numpy in /usr/local/lib/python3.6/dist-packages (from pytorch-transformers) (1.18.5)\n",
      "Requirement already satisfied: regex in /usr/local/lib/python3.6/dist-packages (from pytorch-transformers) (2019.12.20)\n",
      "Requirement already satisfied: requests in /usr/local/lib/python3.6/dist-packages (from pytorch-transformers) (2.23.0)\n",
      "Requirement already satisfied: six in /usr/local/lib/python3.6/dist-packages (from sacremoses->pytorch-transformers) (1.15.0)\n",
      "Requirement already satisfied: click in /usr/local/lib/python3.6/dist-packages (from sacremoses->pytorch-transformers) (7.1.2)\n",
      "Requirement already satisfied: joblib in /usr/local/lib/python3.6/dist-packages (from sacremoses->pytorch-transformers) (0.17.0)\n",
      "Requirement already satisfied: typing-extensions in /usr/local/lib/python3.6/dist-packages (from torch>=1.0.0->pytorch-transformers) (3.7.4.3)\n",
      "Requirement already satisfied: future in /usr/local/lib/python3.6/dist-packages (from torch>=1.0.0->pytorch-transformers) (0.16.0)\n",
      "Requirement already satisfied: dataclasses in /usr/local/lib/python3.6/dist-packages (from torch>=1.0.0->pytorch-transformers) (0.8)\n",
      "Collecting botocore<1.20.0,>=1.19.33\n",
      "\u001b[?25l  Downloading https://files.pythonhosted.org/packages/76/3e/5f64c7b492312069520d219ed56ce6b3d1821dab8251c18d25728578b58e/botocore-1.19.33-py2.py3-none-any.whl (7.0MB)\n",
      "\u001b[K     |████████████████████████████████| 7.0MB 51.5MB/s \n",
      "\u001b[?25hCollecting jmespath<1.0.0,>=0.7.1\n",
      "  Downloading https://files.pythonhosted.org/packages/07/cb/5f001272b6faeb23c1c9e0acc04d48eaaf5c862c17709d20e3469c6e0139/jmespath-0.10.0-py2.py3-none-any.whl\n",
      "Collecting s3transfer<0.4.0,>=0.3.0\n",
      "\u001b[?25l  Downloading https://files.pythonhosted.org/packages/69/79/e6afb3d8b0b4e96cefbdc690f741d7dd24547ff1f94240c997a26fa908d3/s3transfer-0.3.3-py2.py3-none-any.whl (69kB)\n",
      "\u001b[K     |████████████████████████████████| 71kB 10.1MB/s \n",
      "\u001b[?25hRequirement already satisfied: urllib3!=1.25.0,!=1.25.1,<1.26,>=1.21.1 in /usr/local/lib/python3.6/dist-packages (from requests->pytorch-transformers) (1.24.3)\n",
      "Requirement already satisfied: certifi>=2017.4.17 in /usr/local/lib/python3.6/dist-packages (from requests->pytorch-transformers) (2020.11.8)\n",
      "Requirement already satisfied: idna<3,>=2.5 in /usr/local/lib/python3.6/dist-packages (from requests->pytorch-transformers) (2.10)\n",
      "Requirement already satisfied: chardet<4,>=3.0.2 in /usr/local/lib/python3.6/dist-packages (from requests->pytorch-transformers) (3.0.4)\n",
      "Requirement already satisfied: python-dateutil<3.0.0,>=2.1 in /usr/local/lib/python3.6/dist-packages (from botocore<1.20.0,>=1.19.33->boto3->pytorch-transformers) (2.8.1)\n",
      "Building wheels for collected packages: sacremoses, boto3\n",
      "  Building wheel for sacremoses (setup.py) ... \u001b[?25l\u001b[?25hdone\n",
      "  Created wheel for sacremoses: filename=sacremoses-0.0.43-cp36-none-any.whl size=893257 sha256=d788864d23854301a107f34bc69f57ee8c2a82a15e98b4d63e508b9e4a557847\n",
      "  Stored in directory: /root/.cache/pip/wheels/29/3c/fd/7ce5c3f0666dab31a50123635e6fb5e19ceb42ce38d4e58f45\n",
      "  Building wheel for boto3 (setup.py) ... \u001b[?25l\u001b[?25hdone\n",
      "  Created wheel for boto3: filename=boto3-1.16.33-py2.py3-none-any.whl size=128451 sha256=3a1e03b80b1aa345b585e8d5087beed2aef54e1d5cbc4ba39954a51694202923\n",
      "  Stored in directory: /root/.cache/pip/wheels/28/c0/ba/5f9cce3a8686eea945fd594ae8fcdec24b1bd7402d3d065a47\n",
      "Successfully built sacremoses boto3\n",
      "\u001b[31mERROR: botocore 1.19.33 has requirement urllib3<1.27,>=1.25.4; python_version != \"3.4\", but you'll have urllib3 1.24.3 which is incompatible.\u001b[0m\n",
      "Installing collected packages: sentencepiece, sacremoses, jmespath, botocore, s3transfer, boto3, pytorch-transformers\n",
      "Successfully installed boto3-1.16.33 botocore-1.19.33 jmespath-0.10.0 pytorch-transformers-1.2.0 s3transfer-0.3.3 sacremoses-0.0.43 sentencepiece-0.1.94\n",
      "Collecting transformers==3\n",
      "\u001b[?25l  Downloading https://files.pythonhosted.org/packages/9c/35/1c3f6e62d81f5f0daff1384e6d5e6c5758682a8357ebc765ece2b9def62b/transformers-3.0.0-py3-none-any.whl (754kB)\n",
      "\u001b[K     |████████████████████████████████| 757kB 22.6MB/s \n",
      "\u001b[?25hRequirement already satisfied: sentencepiece in /usr/local/lib/python3.6/dist-packages (from transformers==3) (0.1.94)\n",
      "Requirement already satisfied: requests in /usr/local/lib/python3.6/dist-packages (from transformers==3) (2.23.0)\n",
      "Requirement already satisfied: dataclasses; python_version < \"3.7\" in /usr/local/lib/python3.6/dist-packages (from transformers==3) (0.8)\n",
      "Requirement already satisfied: filelock in /usr/local/lib/python3.6/dist-packages (from transformers==3) (3.0.12)\n",
      "Requirement already satisfied: packaging in /usr/local/lib/python3.6/dist-packages (from transformers==3) (20.4)\n",
      "Collecting tokenizers==0.8.0-rc4\n",
      "\u001b[?25l  Downloading https://files.pythonhosted.org/packages/e8/bd/e5abec46af977c8a1375c1dca7cb1e5b3ec392ef279067af7f6bc50491a0/tokenizers-0.8.0rc4-cp36-cp36m-manylinux1_x86_64.whl (3.0MB)\n",
      "\u001b[K     |████████████████████████████████| 3.0MB 56.1MB/s \n",
      "\u001b[?25hRequirement already satisfied: tqdm>=4.27 in /usr/local/lib/python3.6/dist-packages (from transformers==3) (4.41.1)\n",
      "Requirement already satisfied: regex!=2019.12.17 in /usr/local/lib/python3.6/dist-packages (from transformers==3) (2019.12.20)\n",
      "Requirement already satisfied: sacremoses in /usr/local/lib/python3.6/dist-packages (from transformers==3) (0.0.43)\n",
      "Requirement already satisfied: numpy in /usr/local/lib/python3.6/dist-packages (from transformers==3) (1.18.5)\n",
      "Requirement already satisfied: idna<3,>=2.5 in /usr/local/lib/python3.6/dist-packages (from requests->transformers==3) (2.10)\n",
      "Requirement already satisfied: chardet<4,>=3.0.2 in /usr/local/lib/python3.6/dist-packages (from requests->transformers==3) (3.0.4)\n",
      "Requirement already satisfied: certifi>=2017.4.17 in /usr/local/lib/python3.6/dist-packages (from requests->transformers==3) (2020.11.8)\n",
      "Requirement already satisfied: urllib3!=1.25.0,!=1.25.1,<1.26,>=1.21.1 in /usr/local/lib/python3.6/dist-packages (from requests->transformers==3) (1.24.3)\n",
      "Requirement already satisfied: pyparsing>=2.0.2 in /usr/local/lib/python3.6/dist-packages (from packaging->transformers==3) (2.4.7)\n",
      "Requirement already satisfied: six in /usr/local/lib/python3.6/dist-packages (from packaging->transformers==3) (1.15.0)\n",
      "Requirement already satisfied: joblib in /usr/local/lib/python3.6/dist-packages (from sacremoses->transformers==3) (0.17.0)\n",
      "Requirement already satisfied: click in /usr/local/lib/python3.6/dist-packages (from sacremoses->transformers==3) (7.1.2)\n",
      "Installing collected packages: tokenizers, transformers\n",
      "Successfully installed tokenizers-0.8.0rc4 transformers-3.0.0\n"
     ]
    }
   ],
   "source": [
    "!pip install pytorch-transformers\n",
    "!pip install transformers==3"
   ]
  },
  {
   "cell_type": "code",
   "execution_count": null,
   "metadata": {
    "id": "4wRmUot4iSpW"
   },
   "outputs": [],
   "source": [
    "from sklearn.metrics import accuracy_score, classification_report, confusion_matrix\n",
    "from sklearn.metrics import precision_recall_fscore_support\n",
    "\n",
    "import seaborn as sns\n",
    "import pandas as pd\n",
    "\n",
    "from sklearn.metrics import accuracy_score, classification_report, confusion_matrix\n",
    "\n",
    "import torch\n",
    "from torchtext.data import Field, TabularDataset, BucketIterator, Iterator\n",
    "\n",
    "from transformers import RobertaTokenizer, RobertaModel, AdamW, get_linear_schedule_with_warmup, XLMRobertaTokenizer, XLMRobertaModel\n",
    "\n",
    "import warnings\n",
    "warnings.filterwarnings('ignore')\n",
    "\n",
    "import logging\n",
    "logging.getLogger(\"transformers.tokenization_utils_base\").setLevel(logging.ERROR)\n",
    "\n",
    "import csv"
   ]
  },
  {
   "cell_type": "code",
   "execution_count": null,
   "metadata": {
    "colab": {
     "base_uri": "https://localhost:8080/"
    },
    "id": "zeK8MadvlmA0",
    "outputId": "28eec05c-16aa-4ca6-cbb3-09425d7f2cf9"
   },
   "outputs": [
    {
     "name": "stdout",
     "output_type": "stream",
     "text": [
      "True\n"
     ]
    }
   ],
   "source": [
    "## Check if Cuda is Available\n",
    "print(torch.cuda.is_available())"
   ]
  },
  {
   "cell_type": "code",
   "execution_count": null,
   "metadata": {
    "id": "E2EuHLHUlmek"
   },
   "outputs": [],
   "source": [
    "train_raw = pd.read_json(\"data/train.jsonl\", lines=True, encoding=\"utf-8\")\n",
    "test_raw = pd.read_json(\"data/test.jsonl\", lines=True, encoding=\"utf-8\")"
   ]
  },
  {
   "cell_type": "code",
   "execution_count": null,
   "metadata": {
    "id": "yk9j2XjHBMRW"
   },
   "outputs": [],
   "source": [
    "train_raw['conext_string'] = train_raw.context.apply(lambda x: ' '.join(x[::-1][:3]))\n",
    "test_raw['conext_string'] = test_raw.context.apply(lambda x: ' '.join(x[::-1][:3]))"
   ]
  },
  {
   "cell_type": "code",
   "execution_count": null,
   "metadata": {
    "colab": {
     "base_uri": "https://localhost:8080/",
     "height": 343
    },
    "id": "foTlkv2rCHoJ",
    "outputId": "82a464ee-2fdb-4f9e-8d96-2613c6b376b1"
   },
   "outputs": [
    {
     "data": {
      "text/html": [
       "<div>\n",
       "<style scoped>\n",
       "    .dataframe tbody tr th:only-of-type {\n",
       "        vertical-align: middle;\n",
       "    }\n",
       "\n",
       "    .dataframe tbody tr th {\n",
       "        vertical-align: top;\n",
       "    }\n",
       "\n",
       "    .dataframe thead th {\n",
       "        text-align: right;\n",
       "    }\n",
       "</style>\n",
       "<table border=\"1\" class=\"dataframe\">\n",
       "  <thead>\n",
       "    <tr style=\"text-align: right;\">\n",
       "      <th></th>\n",
       "      <th>label</th>\n",
       "      <th>response</th>\n",
       "      <th>context</th>\n",
       "      <th>conext_string</th>\n",
       "    </tr>\n",
       "  </thead>\n",
       "  <tbody>\n",
       "    <tr>\n",
       "      <th>0</th>\n",
       "      <td>SARCASM</td>\n",
       "      <td>@USER @USER @USER I don't get this .. obviousl...</td>\n",
       "      <td>[A minor child deserves privacy and should be ...</td>\n",
       "      <td>@USER If your child isn't named Barron ... #Be...</td>\n",
       "    </tr>\n",
       "    <tr>\n",
       "      <th>1</th>\n",
       "      <td>SARCASM</td>\n",
       "      <td>@USER @USER trying to protest about . Talking ...</td>\n",
       "      <td>[@USER @USER Why is he a loser ? He's just a P...</td>\n",
       "      <td>@USER @USER having to make up excuses of why y...</td>\n",
       "    </tr>\n",
       "    <tr>\n",
       "      <th>2</th>\n",
       "      <td>SARCASM</td>\n",
       "      <td>@USER @USER @USER He makes an insane about of ...</td>\n",
       "      <td>[Donald J . Trump is guilty as charged . The e...</td>\n",
       "      <td>@USER I ’ ll remember to not support you at th...</td>\n",
       "    </tr>\n",
       "    <tr>\n",
       "      <th>3</th>\n",
       "      <td>SARCASM</td>\n",
       "      <td>@USER @USER Meanwhile Trump won't even release...</td>\n",
       "      <td>[Jamie Raskin tanked Doug Collins . Collins lo...</td>\n",
       "      <td>@USER But not half as stupid as Schiff looks ....</td>\n",
       "    </tr>\n",
       "    <tr>\n",
       "      <th>4</th>\n",
       "      <td>SARCASM</td>\n",
       "      <td>@USER @USER Pretty Sure the Anti-Lincoln Crowd...</td>\n",
       "      <td>[Man ... y ’ all gone “ both sides ” the apoca...</td>\n",
       "      <td>@USER They already did . Obama said many times...</td>\n",
       "    </tr>\n",
       "    <tr>\n",
       "      <th>5</th>\n",
       "      <td>SARCASM</td>\n",
       "      <td>@USER @USER @USER -&gt; per your tag line : never...</td>\n",
       "      <td>[Donald Trump tapped into voters ’ populist sh...</td>\n",
       "      <td>@USER because these privileged white boys are ...</td>\n",
       "    </tr>\n",
       "    <tr>\n",
       "      <th>6</th>\n",
       "      <td>SARCASM</td>\n",
       "      <td>@USER @USER he does ! It excites him then he k...</td>\n",
       "      <td>[@USER @USER Coo-Coo . Keep on supporting fema...</td>\n",
       "      <td>@USER @USER do you masturbate to these videos ...</td>\n",
       "    </tr>\n",
       "    <tr>\n",
       "      <th>7</th>\n",
       "      <td>SARCASM</td>\n",
       "      <td>Oh look , it's the #racist @USER offering soli...</td>\n",
       "      <td>[Hi , I'm Dennis , I'll be looking after lily'...</td>\n",
       "      <td>@USER Dennis please pass on my love and solida...</td>\n",
       "    </tr>\n",
       "    <tr>\n",
       "      <th>8</th>\n",
       "      <td>SARCASM</td>\n",
       "      <td>@USER @USER @USER As they are the biggest bull...</td>\n",
       "      <td>[Tips for children and young people from @USER...</td>\n",
       "      <td>@USER @USER @USER Please forward on to the Soc...</td>\n",
       "    </tr>\n",
       "    <tr>\n",
       "      <th>9</th>\n",
       "      <td>SARCASM</td>\n",
       "      <td>@USER @USER @USER responds to facts by tossing...</td>\n",
       "      <td>[The response of Sanders ' team to his quote f...</td>\n",
       "      <td>@USER Careful , Bernie ’ s supporters get trig...</td>\n",
       "    </tr>\n",
       "  </tbody>\n",
       "</table>\n",
       "</div>"
      ],
      "text/plain": [
       "     label  ...                                      conext_string\n",
       "0  SARCASM  ...  @USER If your child isn't named Barron ... #Be...\n",
       "1  SARCASM  ...  @USER @USER having to make up excuses of why y...\n",
       "2  SARCASM  ...  @USER I ’ ll remember to not support you at th...\n",
       "3  SARCASM  ...  @USER But not half as stupid as Schiff looks ....\n",
       "4  SARCASM  ...  @USER They already did . Obama said many times...\n",
       "5  SARCASM  ...  @USER because these privileged white boys are ...\n",
       "6  SARCASM  ...  @USER @USER do you masturbate to these videos ...\n",
       "7  SARCASM  ...  @USER Dennis please pass on my love and solida...\n",
       "8  SARCASM  ...  @USER @USER @USER Please forward on to the Soc...\n",
       "9  SARCASM  ...  @USER Careful , Bernie ’ s supporters get trig...\n",
       "\n",
       "[10 rows x 4 columns]"
      ]
     },
     "execution_count": 28,
     "metadata": {
      "tags": []
     },
     "output_type": "execute_result"
    }
   ],
   "source": [
    "train_raw.head(10)"
   ]
  },
  {
   "cell_type": "code",
   "execution_count": null,
   "metadata": {
    "id": "AP2ANyIcDawV"
   },
   "outputs": [],
   "source": [
    "encode_label = {'NOT_SARCASM' : 0, 'SARCASM' : 1}\n",
    "\n",
    "train_raw['target'] = train_raw['label'].map(encode_label)\n",
    "train_raw['all_string'] = train_raw['response'] + \". \" + train_raw['conext_string']\n",
    "test_raw['all_string'] = test_raw['response'] + \". \" + test_raw['conext_string']"
   ]
  },
  {
   "cell_type": "code",
   "execution_count": null,
   "metadata": {
    "id": "rpmliMpOneJX"
   },
   "outputs": [],
   "source": [
    "train_raw['all_string'] = train_raw['all_string'].apply(lambda x: x.lower())\n",
    "test_raw['all_string'] = test_raw['all_string'].apply(lambda x: x.lower())"
   ]
  },
  {
   "cell_type": "code",
   "execution_count": null,
   "metadata": {
    "colab": {
     "base_uri": "https://localhost:8080/",
     "height": 410
    },
    "id": "jOKMf4won0t3",
    "outputId": "d16161ef-09fe-44bd-e15c-cd50f6003d59"
   },
   "outputs": [
    {
     "data": {
      "text/html": [
       "<div>\n",
       "<style scoped>\n",
       "    .dataframe tbody tr th:only-of-type {\n",
       "        vertical-align: middle;\n",
       "    }\n",
       "\n",
       "    .dataframe tbody tr th {\n",
       "        vertical-align: top;\n",
       "    }\n",
       "\n",
       "    .dataframe thead th {\n",
       "        text-align: right;\n",
       "    }\n",
       "</style>\n",
       "<table border=\"1\" class=\"dataframe\">\n",
       "  <thead>\n",
       "    <tr style=\"text-align: right;\">\n",
       "      <th></th>\n",
       "      <th>label</th>\n",
       "      <th>response</th>\n",
       "      <th>context</th>\n",
       "      <th>conext_string</th>\n",
       "      <th>target</th>\n",
       "      <th>all_string</th>\n",
       "    </tr>\n",
       "  </thead>\n",
       "  <tbody>\n",
       "    <tr>\n",
       "      <th>0</th>\n",
       "      <td>SARCASM</td>\n",
       "      <td>@USER @USER @USER I don't get this .. obviousl...</td>\n",
       "      <td>[A minor child deserves privacy and should be ...</td>\n",
       "      <td>@USER If your child isn't named Barron ... #Be...</td>\n",
       "      <td>1</td>\n",
       "      <td>@user @user @user i don't get this .. obviousl...</td>\n",
       "    </tr>\n",
       "    <tr>\n",
       "      <th>1</th>\n",
       "      <td>SARCASM</td>\n",
       "      <td>@USER @USER trying to protest about . Talking ...</td>\n",
       "      <td>[@USER @USER Why is he a loser ? He's just a P...</td>\n",
       "      <td>@USER @USER having to make up excuses of why y...</td>\n",
       "      <td>1</td>\n",
       "      <td>@user @user trying to protest about . talking ...</td>\n",
       "    </tr>\n",
       "    <tr>\n",
       "      <th>2</th>\n",
       "      <td>SARCASM</td>\n",
       "      <td>@USER @USER @USER He makes an insane about of ...</td>\n",
       "      <td>[Donald J . Trump is guilty as charged . The e...</td>\n",
       "      <td>@USER I ’ ll remember to not support you at th...</td>\n",
       "      <td>1</td>\n",
       "      <td>@user @user @user he makes an insane about of ...</td>\n",
       "    </tr>\n",
       "    <tr>\n",
       "      <th>3</th>\n",
       "      <td>SARCASM</td>\n",
       "      <td>@USER @USER Meanwhile Trump won't even release...</td>\n",
       "      <td>[Jamie Raskin tanked Doug Collins . Collins lo...</td>\n",
       "      <td>@USER But not half as stupid as Schiff looks ....</td>\n",
       "      <td>1</td>\n",
       "      <td>@user @user meanwhile trump won't even release...</td>\n",
       "    </tr>\n",
       "    <tr>\n",
       "      <th>4</th>\n",
       "      <td>SARCASM</td>\n",
       "      <td>@USER @USER Pretty Sure the Anti-Lincoln Crowd...</td>\n",
       "      <td>[Man ... y ’ all gone “ both sides ” the apoca...</td>\n",
       "      <td>@USER They already did . Obama said many times...</td>\n",
       "      <td>1</td>\n",
       "      <td>@user @user pretty sure the anti-lincoln crowd...</td>\n",
       "    </tr>\n",
       "    <tr>\n",
       "      <th>5</th>\n",
       "      <td>SARCASM</td>\n",
       "      <td>@USER @USER @USER -&gt; per your tag line : never...</td>\n",
       "      <td>[Donald Trump tapped into voters ’ populist sh...</td>\n",
       "      <td>@USER because these privileged white boys are ...</td>\n",
       "      <td>1</td>\n",
       "      <td>@user @user @user -&gt; per your tag line : never...</td>\n",
       "    </tr>\n",
       "    <tr>\n",
       "      <th>6</th>\n",
       "      <td>SARCASM</td>\n",
       "      <td>@USER @USER he does ! It excites him then he k...</td>\n",
       "      <td>[@USER @USER Coo-Coo . Keep on supporting fema...</td>\n",
       "      <td>@USER @USER do you masturbate to these videos ...</td>\n",
       "      <td>1</td>\n",
       "      <td>@user @user he does ! it excites him then he k...</td>\n",
       "    </tr>\n",
       "    <tr>\n",
       "      <th>7</th>\n",
       "      <td>SARCASM</td>\n",
       "      <td>Oh look , it's the #racist @USER offering soli...</td>\n",
       "      <td>[Hi , I'm Dennis , I'll be looking after lily'...</td>\n",
       "      <td>@USER Dennis please pass on my love and solida...</td>\n",
       "      <td>1</td>\n",
       "      <td>oh look , it's the #racist @user offering soli...</td>\n",
       "    </tr>\n",
       "    <tr>\n",
       "      <th>8</th>\n",
       "      <td>SARCASM</td>\n",
       "      <td>@USER @USER @USER As they are the biggest bull...</td>\n",
       "      <td>[Tips for children and young people from @USER...</td>\n",
       "      <td>@USER @USER @USER Please forward on to the Soc...</td>\n",
       "      <td>1</td>\n",
       "      <td>@user @user @user as they are the biggest bull...</td>\n",
       "    </tr>\n",
       "    <tr>\n",
       "      <th>9</th>\n",
       "      <td>SARCASM</td>\n",
       "      <td>@USER @USER @USER responds to facts by tossing...</td>\n",
       "      <td>[The response of Sanders ' team to his quote f...</td>\n",
       "      <td>@USER Careful , Bernie ’ s supporters get trig...</td>\n",
       "      <td>1</td>\n",
       "      <td>@user @user @user responds to facts by tossing...</td>\n",
       "    </tr>\n",
       "  </tbody>\n",
       "</table>\n",
       "</div>"
      ],
      "text/plain": [
       "     label  ...                                         all_string\n",
       "0  SARCASM  ...  @user @user @user i don't get this .. obviousl...\n",
       "1  SARCASM  ...  @user @user trying to protest about . talking ...\n",
       "2  SARCASM  ...  @user @user @user he makes an insane about of ...\n",
       "3  SARCASM  ...  @user @user meanwhile trump won't even release...\n",
       "4  SARCASM  ...  @user @user pretty sure the anti-lincoln crowd...\n",
       "5  SARCASM  ...  @user @user @user -> per your tag line : never...\n",
       "6  SARCASM  ...  @user @user he does ! it excites him then he k...\n",
       "7  SARCASM  ...  oh look , it's the #racist @user offering soli...\n",
       "8  SARCASM  ...  @user @user @user as they are the biggest bull...\n",
       "9  SARCASM  ...  @user @user @user responds to facts by tossing...\n",
       "\n",
       "[10 rows x 6 columns]"
      ]
     },
     "execution_count": 31,
     "metadata": {
      "tags": []
     },
     "output_type": "execute_result"
    }
   ],
   "source": [
    "train_raw.head(10)"
   ]
  },
  {
   "cell_type": "code",
   "execution_count": null,
   "metadata": {
    "colab": {
     "base_uri": "https://localhost:8080/",
     "height": 343
    },
    "id": "mbo4t7MMkO6z",
    "outputId": "fd92bdb5-21dd-40b0-cb32-b20526bfbdb5"
   },
   "outputs": [
    {
     "data": {
      "text/html": [
       "<div>\n",
       "<style scoped>\n",
       "    .dataframe tbody tr th:only-of-type {\n",
       "        vertical-align: middle;\n",
       "    }\n",
       "\n",
       "    .dataframe tbody tr th {\n",
       "        vertical-align: top;\n",
       "    }\n",
       "\n",
       "    .dataframe thead th {\n",
       "        text-align: right;\n",
       "    }\n",
       "</style>\n",
       "<table border=\"1\" class=\"dataframe\">\n",
       "  <thead>\n",
       "    <tr style=\"text-align: right;\">\n",
       "      <th></th>\n",
       "      <th>id</th>\n",
       "      <th>response</th>\n",
       "      <th>context</th>\n",
       "      <th>conext_string</th>\n",
       "      <th>all_string</th>\n",
       "    </tr>\n",
       "  </thead>\n",
       "  <tbody>\n",
       "    <tr>\n",
       "      <th>0</th>\n",
       "      <td>twitter_1</td>\n",
       "      <td>@USER @USER @USER My 3 year old , that just fi...</td>\n",
       "      <td>[Well now that ’ s problematic AF &lt;URL&gt;, @USER...</td>\n",
       "      <td>@USER @USER @USER No .. he actually in the gif...</td>\n",
       "      <td>@user @user @user my 3 year old , that just fi...</td>\n",
       "    </tr>\n",
       "    <tr>\n",
       "      <th>1</th>\n",
       "      <td>twitter_2</td>\n",
       "      <td>@USER @USER How many verifiable lies has he to...</td>\n",
       "      <td>[Last week the Fake News said that a section o...</td>\n",
       "      <td>@USER The mainstream media doesn't report the ...</td>\n",
       "      <td>@user @user how many verifiable lies has he to...</td>\n",
       "    </tr>\n",
       "    <tr>\n",
       "      <th>2</th>\n",
       "      <td>twitter_3</td>\n",
       "      <td>@USER @USER @USER Maybe Docs just a scrub of a...</td>\n",
       "      <td>[@USER Let ’ s Aplaud Brett When he deserves i...</td>\n",
       "      <td>@USER @USER He did try keep korkmaz in in the ...</td>\n",
       "      <td>@user @user @user maybe docs just a scrub of a...</td>\n",
       "    </tr>\n",
       "    <tr>\n",
       "      <th>3</th>\n",
       "      <td>twitter_4</td>\n",
       "      <td>@USER @USER is just a cover up for the real ha...</td>\n",
       "      <td>[Women generally hate this president . What's ...</td>\n",
       "      <td>@USER I've hated him before he was placed in o...</td>\n",
       "      <td>@user @user is just a cover up for the real ha...</td>\n",
       "    </tr>\n",
       "    <tr>\n",
       "      <th>4</th>\n",
       "      <td>twitter_5</td>\n",
       "      <td>@USER @USER @USER The irony being that he even...</td>\n",
       "      <td>[Dear media Remoaners , you excitedly sharing ...</td>\n",
       "      <td>@USER @USER Quite an articulate and considered...</td>\n",
       "      <td>@user @user @user the irony being that he even...</td>\n",
       "    </tr>\n",
       "    <tr>\n",
       "      <th>5</th>\n",
       "      <td>twitter_6</td>\n",
       "      <td>@USER @USER Doesn't matter . Those guys weren'...</td>\n",
       "      <td>[Wilt Chamberlain rejects the skyhook twice in...</td>\n",
       "      <td>@USER plus he ’ s around 34 years old at that ...</td>\n",
       "      <td>@user @user doesn't matter . those guys weren'...</td>\n",
       "    </tr>\n",
       "    <tr>\n",
       "      <th>6</th>\n",
       "      <td>twitter_7</td>\n",
       "      <td>@USER @USER @USER So , my #kindnesscascade are...</td>\n",
       "      <td>[I want to start something magical . I don ’ t...</td>\n",
       "      <td>@USER @USER @USER It really was . I'm packing ...</td>\n",
       "      <td>@user @user @user so , my #kindnesscascade are...</td>\n",
       "    </tr>\n",
       "    <tr>\n",
       "      <th>7</th>\n",
       "      <td>twitter_8</td>\n",
       "      <td>@USER @USER @USER They need to be an MSP to be...</td>\n",
       "      <td>[He ’ s finished . If true this is grooming an...</td>\n",
       "      <td>@USER @USER I think it will be Cherry &amp; I susp...</td>\n",
       "      <td>@user @user @user they need to be an msp to be...</td>\n",
       "    </tr>\n",
       "    <tr>\n",
       "      <th>8</th>\n",
       "      <td>twitter_9</td>\n",
       "      <td>@USER @USER @USER In which Constitution is it ...</td>\n",
       "      <td>[Now students can ’ t bring stones in librarie...</td>\n",
       "      <td>@USER this one ? @USER aap to bahut logical ha...</td>\n",
       "      <td>@user @user @user in which constitution is it ...</td>\n",
       "    </tr>\n",
       "    <tr>\n",
       "      <th>9</th>\n",
       "      <td>twitter_10</td>\n",
       "      <td>@USER @USER ... he says while the GOP is overw...</td>\n",
       "      <td>[One of these things is not like the others . ...</td>\n",
       "      <td>@USER It's more diverse than the Democratic de...</td>\n",
       "      <td>@user @user ... he says while the gop is overw...</td>\n",
       "    </tr>\n",
       "  </tbody>\n",
       "</table>\n",
       "</div>"
      ],
      "text/plain": [
       "           id  ...                                         all_string\n",
       "0   twitter_1  ...  @user @user @user my 3 year old , that just fi...\n",
       "1   twitter_2  ...  @user @user how many verifiable lies has he to...\n",
       "2   twitter_3  ...  @user @user @user maybe docs just a scrub of a...\n",
       "3   twitter_4  ...  @user @user is just a cover up for the real ha...\n",
       "4   twitter_5  ...  @user @user @user the irony being that he even...\n",
       "5   twitter_6  ...  @user @user doesn't matter . those guys weren'...\n",
       "6   twitter_7  ...  @user @user @user so , my #kindnesscascade are...\n",
       "7   twitter_8  ...  @user @user @user they need to be an msp to be...\n",
       "8   twitter_9  ...  @user @user @user in which constitution is it ...\n",
       "9  twitter_10  ...  @user @user ... he says while the gop is overw...\n",
       "\n",
       "[10 rows x 5 columns]"
      ]
     },
     "execution_count": 32,
     "metadata": {
      "tags": []
     },
     "output_type": "execute_result"
    }
   ],
   "source": [
    "test_raw.head(10)"
   ]
  },
  {
   "cell_type": "code",
   "execution_count": null,
   "metadata": {
    "id": "rrPyTg8rJkW2"
   },
   "outputs": [],
   "source": [
    "train_raw.to_csv(\"data/train_new.csv\")\n",
    "test_raw.to_csv(\"data/test_new.csv\")"
   ]
  },
  {
   "cell_type": "markdown",
   "metadata": {},
   "source": [
    "reference：\n",
    "https://towardsdatascience.com/fine-tuning-bert-and-roberta-for-high-accuracy-text-classification-in-pytorch-c9e63cf64646\n",
    "https://github.com/aramakus/ML-and-Data-Analysis/blob/master/RoBERTa%20for%20text%20classification.ipynb"
   ]
  },
  {
   "cell_type": "code",
   "execution_count": null,
   "metadata": {
    "colab": {
     "base_uri": "https://localhost:8080/"
    },
    "id": "67jzmJvzoE2y",
    "outputId": "0672a554-09e4-4be8-ecde-76d0ec499dfe"
   },
   "outputs": [
    {
     "name": "stdout",
     "output_type": "stream",
     "text": [
      "cuda:0\n"
     ]
    }
   ],
   "source": [
    "# Set random seed and set device to GPU.\n",
    "torch.manual_seed(17)\n",
    "\n",
    "if torch.cuda.is_available():\n",
    "    device = torch.device('cuda:0')\n",
    "    torch.backends.cudnn.deterministic = True\n",
    "    torch.backends.cudnn.benchmark = False\n",
    "else:\n",
    "    device = torch.device('cpu')\n",
    "\n",
    "print(device)"
   ]
  },
  {
   "cell_type": "code",
   "execution_count": null,
   "metadata": {
    "id": "_ZkTf--3oRfQ"
   },
   "outputs": [],
   "source": [
    "# Initialize tokenizer.\n",
    "tokenizer = XLMRobertaTokenizer.from_pretrained(\"xlm-roberta-base\")"
   ]
  },
  {
   "cell_type": "code",
   "execution_count": null,
   "metadata": {
    "id": "iHoN5FGVI4Fz"
   },
   "outputs": [],
   "source": [
    "# Set tokenizer hyperparameters.\n",
    "MAX_SEQ_LEN = 256\n",
    "BATCH_SIZE = 16\n",
    "PAD_INDEX = tokenizer.convert_tokens_to_ids(tokenizer.pad_token)\n",
    "UNK_INDEX = tokenizer.convert_tokens_to_ids(tokenizer.unk_token)\n",
    "\n",
    "\n",
    "# Define columns to read.\n",
    "label_field = Field(sequential=False, use_vocab=False, batch_first=True)\n",
    "text_field = Field(use_vocab=False, \n",
    "                   tokenize=tokenizer.encode, \n",
    "                   include_lengths=False, \n",
    "                   batch_first=True,\n",
    "                   fix_length=MAX_SEQ_LEN, \n",
    "                   pad_token=PAD_INDEX, \n",
    "                   unk_token=UNK_INDEX)\n",
    "\n",
    "fields = {'all_string' : ('all_string', text_field), 'target' : ('target', label_field)}\n",
    "\n",
    "\n",
    "# Read preprocessed CSV into TabularDataset and split it into train, test and valid.\n",
    "train_data, valid_data = TabularDataset(path=\"data/train_new.csv\", \n",
    "                                        format='CSV', \n",
    "                                        fields=fields, \n",
    "                                        skip_header=False).split(split_ratio=[0.80, 0.2], \n",
    "                                        stratified=True, \n",
    "                                        strata_field='target')\n",
    "\n",
    "# Create train and validation iterators.\n",
    "train_iter, valid_iter = BucketIterator.splits((train_data, valid_data),\n",
    "                                               batch_size=BATCH_SIZE,\n",
    "                                               device=device,\n",
    "                                               shuffle=True,\n",
    "                                               sort_key=lambda x: len(x.all_string), \n",
    "                                               sort=True, \n",
    "                                               sort_within_batch=False)\n",
    "id_field = Field(use_vocab=True, sequential=False)\n",
    "fields2 = {'all_string' : ('all_string', text_field)}\n",
    "test_data = TabularDataset(path=\"data/test_new.csv\", \n",
    "                           format='CSV', \n",
    "                           fields=fields2, \n",
    "                           skip_header=False)\n",
    "\n",
    "# Test iterator, no shuffling or sorting required.\n",
    "test_iter = Iterator(test_data, batch_size=BATCH_SIZE, device=device, train=False, shuffle=False, sort=False)"
   ]
  },
  {
   "cell_type": "code",
   "execution_count": null,
   "metadata": {
    "id": "BPPZHtRroV_U"
   },
   "outputs": [],
   "source": [
    "# Model with extra layers on top of RoBERTa\n",
    "class ROBERTAClassifier(torch.nn.Module):\n",
    "    def __init__(self, dropout_rate=0.3):\n",
    "        super(ROBERTAClassifier, self).__init__()\n",
    "        \n",
    "        self.roberta = XLMRobertaModel.from_pretrained('xlm-roberta-base')\n",
    "        self.d1 = torch.nn.Dropout(dropout_rate)\n",
    "        self.l1 = torch.nn.Linear(768, 64)\n",
    "        self.bn1 = torch.nn.LayerNorm(64)\n",
    "        self.d2 = torch.nn.Dropout(dropout_rate)\n",
    "        self.l2 = torch.nn.Linear(64, 2)\n",
    "        \n",
    "    def forward(self, input_ids, attention_mask):\n",
    "        _, x = self.roberta(input_ids=input_ids, attention_mask=attention_mask)\n",
    "        x = self.d1(x)\n",
    "        x = self.l1(x)\n",
    "        x = self.bn1(x)\n",
    "        x = torch.nn.ReLU()(x)\n",
    "        x = self.d2(x)\n",
    "        x = self.l2(x)\n",
    "        \n",
    "        return x"
   ]
  },
  {
   "cell_type": "code",
   "execution_count": null,
   "metadata": {
    "id": "KPoWt-MkXRAk"
   },
   "outputs": [],
   "source": [
    "# Training Function\n",
    "\n",
    "def train(model,\n",
    "          optimizer,\n",
    "          train_iter,\n",
    "          valid_iter,\n",
    "          scheduler = None,\n",
    "          num_epochs = 5,\n",
    "          valid_period = len(train_iter),\n",
    "          output_path = '/content/drive/My Drive/Colab Notebooks/TextClassification'):\n",
    "    \n",
    "    # Initialize losses and loss histories\n",
    "    train_loss = 0.0\n",
    "    valid_loss = 0.0\n",
    "    valid_f1 = 0.0\n",
    "    train_loss_list = []\n",
    "    valid_loss_list = []\n",
    "    best_valid_loss = float('Inf')\n",
    "    best_valid_f1 = float('Inf')\n",
    "    \n",
    "    global_step = 0\n",
    "    global_steps_list = []\n",
    "    \n",
    "    model.train()\n",
    "    \n",
    "    # Train loop\n",
    "    for epoch in range(num_epochs):\n",
    "        for (source, target), _ in train_iter:\n",
    "            mask = (source != PAD_INDEX).type(torch.uint8)\n",
    "\n",
    "            y_pred = model(input_ids=source,  \n",
    "                           attention_mask=mask)\n",
    "            #output = model(input_ids=source,\n",
    "            #              labels=target,\n",
    "            #              attention_mask=mask)\n",
    "            \n",
    "            loss = torch.nn.CrossEntropyLoss()(y_pred, target)\n",
    "            #loss = output[0]\n",
    "            \n",
    "            loss.backward()\n",
    "            \n",
    "            #torch.nn.utils.clip_grad_norm_(model.parameters(), 0.1)\n",
    "            \n",
    "            # Optimizer and scheduler step\n",
    "            optimizer.step()    \n",
    "            scheduler.step()\n",
    "                \n",
    "            optimizer.zero_grad()\n",
    "            \n",
    "            # Update train loss and global step\n",
    "            train_loss += loss.item()\n",
    "            global_step += 1\n",
    "\n",
    "            # Validation loop. Save progress and evaluate model performance.\n",
    "            if global_step % valid_period == 0:\n",
    "                model.eval()\n",
    "                pred = []\n",
    "                actual = []\n",
    "                \n",
    "                with torch.no_grad():                    \n",
    "                    for (source, target), _ in valid_iter:\n",
    "                        mask = (source != PAD_INDEX).type(torch.uint8)\n",
    "\n",
    "                        y_pred = model(input_ids=source, \n",
    "                                       attention_mask=mask)\n",
    "                        #output = model(input_ids=source,\n",
    "                        #               labels=target,\n",
    "                        #               attention_mask=mask)\n",
    "                        \n",
    "                        loss = torch.nn.CrossEntropyLoss()(y_pred, target)\n",
    "                        #loss = output[0]\n",
    "                        \n",
    "                        valid_loss += loss.item()\n",
    "                        pred.extend(torch.argmax(y_pred, axis=-1).tolist())\n",
    "                        actual.extend(target.tolist())\n",
    "\n",
    "                # Store train and validation loss history\n",
    "                train_loss = train_loss / valid_period\n",
    "                valid_loss = valid_loss / len(valid_iter)\n",
    "                train_loss_list.append(train_loss)\n",
    "                valid_loss_list.append(valid_loss)\n",
    "                global_steps_list.append(global_step)\n",
    "                valid_f1 = precision_recall_fscore_support(actual, pred, average='binary')[2]\n",
    "\n",
    "                # print summary\n",
    "                print('Epoch [{}/{}], global step [{}/{}], Train Loss: {:.4f}, Valid Loss: {:.4f}, precision, recall, f1:'\n",
    "                      .format(epoch+1, num_epochs, global_step, num_epochs*len(train_iter),\n",
    "                              train_loss, valid_loss), precision_recall_fscore_support(actual, pred, average='binary'))\n",
    "                \n",
    "                # checkpoint\n",
    "                if best_valid_f1 < valid_f1:\n",
    "                    best_valid_f1 = valid_f1\n",
    "                    save_checkpoint(output_path + '/model3.pkl', model, best_valid_loss)\n",
    "                        \n",
    "                train_loss = 0.0                \n",
    "                valid_loss = 0.0\n",
    "                valid_f1 = 0.0\n",
    "                model.train()\n",
    "    \n",
    "    print('Training done!')"
   ]
  },
  {
   "cell_type": "code",
   "execution_count": null,
   "metadata": {
    "id": "LLWYRFBkocRr"
   },
   "outputs": [],
   "source": [
    "# Functions for saving and loading model parameters and metrics.\n",
    "def save_checkpoint(path, model, valid_loss):\n",
    "    torch.save({'model_state_dict': model.state_dict(),\n",
    "                  'valid_loss': valid_loss}, path)\n",
    "\n",
    "    \n",
    "def load_checkpoint(path, model):    \n",
    "    state_dict = torch.load(path, map_location=device)\n",
    "    model.load_state_dict(state_dict['model_state_dict'], strict=False)\n",
    "    \n",
    "    return state_dict['valid_loss']\n",
    "\n",
    "\n",
    "def save_metrics(path, train_loss_list, valid_loss_list, global_steps_list):   \n",
    "    state_dict = {'train_loss_list': train_loss_list,\n",
    "                  'valid_loss_list': valid_loss_list,\n",
    "                  'global_steps_list': global_steps_list}\n",
    "    \n",
    "    torch.save(state_dict, path)\n",
    "\n",
    "\n",
    "def load_metrics(path):    \n",
    "    state_dict = torch.load(path, map_location=device)\n",
    "    return state_dict['train_loss_list'], state_dict['valid_loss_list'], state_dict['global_steps_list']"
   ]
  },
  {
   "cell_type": "code",
   "execution_count": null,
   "metadata": {
    "colab": {
     "base_uri": "https://localhost:8080/"
    },
    "id": "AKeI6T76Xv9x",
    "outputId": "dcd79352-bc09-4938-8434-72fdd718e922"
   },
   "outputs": [
    {
     "name": "stdout",
     "output_type": "stream",
     "text": [
      "======================= Start training =================================\n",
      "Epoch [1/12], global step [250/3000], Train Loss: 0.6690, Valid Loss: 0.6946, precision, recall, f1: (0.8064516129032258, 0.1, 0.17793594306049823, None)\n",
      "Epoch [2/12], global step [500/3000], Train Loss: 0.5603, Valid Loss: 0.5191, precision, recall, f1: (0.7584158415841584, 0.766, 0.7621890547263681, None)\n",
      "Epoch [3/12], global step [750/3000], Train Loss: 0.4935, Valid Loss: 0.5100, precision, recall, f1: (0.7789934354485777, 0.712, 0.7439916405433646, None)\n",
      "Epoch [4/12], global step [1000/3000], Train Loss: 0.4208, Valid Loss: 0.5411, precision, recall, f1: (0.7858672376873662, 0.734, 0.7590486039296793, None)\n",
      "Epoch [5/12], global step [1250/3000], Train Loss: 0.3511, Valid Loss: 0.5720, precision, recall, f1: (0.7958236658932715, 0.686, 0.736842105263158, None)\n",
      "Epoch [6/12], global step [1500/3000], Train Loss: 0.2915, Valid Loss: 0.6832, precision, recall, f1: (0.8154269972451791, 0.592, 0.685979142526072, None)\n",
      "Epoch [7/12], global step [1750/3000], Train Loss: 0.2588, Valid Loss: 0.8406, precision, recall, f1: (0.847457627118644, 0.4, 0.5434782608695653, None)\n",
      "Epoch [8/12], global step [2000/3000], Train Loss: 0.2243, Valid Loss: 0.7311, precision, recall, f1: (0.8323170731707317, 0.546, 0.6594202898550724, None)\n",
      "Epoch [9/12], global step [2250/3000], Train Loss: 0.1820, Valid Loss: 0.6237, precision, recall, f1: (0.8225419664268585, 0.686, 0.7480916030534351, None)\n",
      "Epoch [10/12], global step [2500/3000], Train Loss: 0.1745, Valid Loss: 0.6108, precision, recall, f1: (0.8012422360248447, 0.774, 0.7873855544252288, None)\n",
      "Epoch [11/12], global step [2750/3000], Train Loss: 0.1483, Valid Loss: 0.6131, precision, recall, f1: (0.7983367983367984, 0.768, 0.7828746177370031, None)\n",
      "Epoch [12/12], global step [3000/3000], Train Loss: 0.1314, Valid Loss: 0.6174, precision, recall, f1: (0.8033826638477801, 0.76, 0.7810894141829393, None)\n",
      "Training done!\n"
     ]
    }
   ],
   "source": [
    "NUM_EPOCHS = 12\n",
    "steps_per_epoch = len(train_iter)\n",
    "\n",
    "model = ROBERTAClassifier(0.3)\n",
    "model = model.to(device)\n",
    "\n",
    "\n",
    "print(\"======================= Start training =================================\")\n",
    "optimizer = AdamW(model.parameters(), lr=1e-5)\n",
    "scheduler = get_linear_schedule_with_warmup(optimizer, \n",
    "                                            num_warmup_steps=steps_per_epoch*2, \n",
    "                                            num_training_steps=steps_per_epoch*NUM_EPOCHS)\n",
    "\n",
    "train(model=model, \n",
    "      train_iter=train_iter, \n",
    "      valid_iter=valid_iter, \n",
    "      optimizer=optimizer, \n",
    "      scheduler=scheduler, \n",
    "      num_epochs=NUM_EPOCHS)"
   ]
  },
  {
   "cell_type": "code",
   "execution_count": null,
   "metadata": {
    "id": "ptmDt8vPj8RO"
   },
   "outputs": [],
   "source": [
    "# Evaluation Function\n",
    "\n",
    "def evaluate(model, test_loader):\n",
    "    y_pred = []\n",
    "\n",
    "    model.eval()\n",
    "    with torch.no_grad():\n",
    "        for (source), _ in test_loader:\n",
    "                mask = (source != PAD_INDEX).type(torch.uint8)\n",
    "                \n",
    "                output = model(source, attention_mask=mask)\n",
    "\n",
    "                y_pred.extend(torch.argmax(output, axis=-1).tolist())\n",
    "\n",
    "    \n",
    "    output = pd.DataFrame()\n",
    "    output['Pred'] = y_pred\n",
    "\n",
    "    return output"
   ]
  },
  {
   "cell_type": "code",
   "execution_count": null,
   "metadata": {
    "id": "b4RzwEzYkA6M"
   },
   "outputs": [],
   "source": [
    "model = ROBERTAClassifier()\n",
    "model = model.to(device)\n",
    "\n",
    "load_checkpoint('/content/drive/My Drive/Colab Notebooks/TextClassification/model2.pkl', model)\n",
    "\n",
    "prediction=evaluate(model, test_iter)"
   ]
  },
  {
   "cell_type": "code",
   "execution_count": null,
   "metadata": {
    "colab": {
     "base_uri": "https://localhost:8080/",
     "height": 402
    },
    "id": "8W1p8Ffsj8dg",
    "outputId": "ac3d9261-d46c-4d43-ebdf-dff8716f655f"
   },
   "outputs": [
    {
     "data": {
      "text/html": [
       "<div>\n",
       "<style scoped>\n",
       "    .dataframe tbody tr th:only-of-type {\n",
       "        vertical-align: middle;\n",
       "    }\n",
       "\n",
       "    .dataframe tbody tr th {\n",
       "        vertical-align: top;\n",
       "    }\n",
       "\n",
       "    .dataframe thead th {\n",
       "        text-align: right;\n",
       "    }\n",
       "</style>\n",
       "<table border=\"1\" class=\"dataframe\">\n",
       "  <thead>\n",
       "    <tr style=\"text-align: right;\">\n",
       "      <th></th>\n",
       "      <th>Pred</th>\n",
       "    </tr>\n",
       "  </thead>\n",
       "  <tbody>\n",
       "    <tr>\n",
       "      <th>0</th>\n",
       "      <td>1</td>\n",
       "    </tr>\n",
       "    <tr>\n",
       "      <th>1</th>\n",
       "      <td>1</td>\n",
       "    </tr>\n",
       "    <tr>\n",
       "      <th>2</th>\n",
       "      <td>1</td>\n",
       "    </tr>\n",
       "    <tr>\n",
       "      <th>3</th>\n",
       "      <td>1</td>\n",
       "    </tr>\n",
       "    <tr>\n",
       "      <th>4</th>\n",
       "      <td>1</td>\n",
       "    </tr>\n",
       "    <tr>\n",
       "      <th>...</th>\n",
       "      <td>...</td>\n",
       "    </tr>\n",
       "    <tr>\n",
       "      <th>1795</th>\n",
       "      <td>0</td>\n",
       "    </tr>\n",
       "    <tr>\n",
       "      <th>1796</th>\n",
       "      <td>1</td>\n",
       "    </tr>\n",
       "    <tr>\n",
       "      <th>1797</th>\n",
       "      <td>1</td>\n",
       "    </tr>\n",
       "    <tr>\n",
       "      <th>1798</th>\n",
       "      <td>0</td>\n",
       "    </tr>\n",
       "    <tr>\n",
       "      <th>1799</th>\n",
       "      <td>0</td>\n",
       "    </tr>\n",
       "  </tbody>\n",
       "</table>\n",
       "<p>1800 rows × 1 columns</p>\n",
       "</div>"
      ],
      "text/plain": [
       "      Pred\n",
       "0        1\n",
       "1        1\n",
       "2        1\n",
       "3        1\n",
       "4        1\n",
       "...    ...\n",
       "1795     0\n",
       "1796     1\n",
       "1797     1\n",
       "1798     0\n",
       "1799     0\n",
       "\n",
       "[1800 rows x 1 columns]"
      ]
     },
     "execution_count": 43,
     "metadata": {
      "tags": []
     },
     "output_type": "execute_result"
    }
   ],
   "source": [
    "prediction"
   ]
  },
  {
   "cell_type": "code",
   "execution_count": null,
   "metadata": {
    "id": "CwcPz-BLqILZ"
   },
   "outputs": [],
   "source": [
    "encode_label = {0 : 'NOT_SARCASM', 1 : 'SARCASM'}\n",
    "\n",
    "test_raw['Pred']=prediction['Pred'].map(encode_label)\n",
    "test_raw[['id', 'Pred']].to_csv('answer.txt', header=None, index=None, sep=',', quoting=csv.QUOTE_NONE, escapechar = ' ')"
   ]
  },
  {
   "cell_type": "code",
   "execution_count": null,
   "metadata": {
    "id": "eRl0q0ZRj8jU"
   },
   "outputs": [],
   "source": []
  }
 ],
 "metadata": {
  "accelerator": "GPU",
  "colab": {
   "collapsed_sections": [],
   "name": "code4 - no pretrain.ipynb",
   "provenance": []
  },
  "kernelspec": {
   "display_name": "Python 3",
   "language": "python",
   "name": "python3"
  },
  "language_info": {
   "codemirror_mode": {
    "name": "ipython",
    "version": 3
   },
   "file_extension": ".py",
   "mimetype": "text/x-python",
   "name": "python",
   "nbconvert_exporter": "python",
   "pygments_lexer": "ipython3",
   "version": "3.6.4"
  }
 },
 "nbformat": 4,
 "nbformat_minor": 1
}
