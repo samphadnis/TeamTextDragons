{
  "nbformat": 4,
  "nbformat_minor": 0,
  "metadata": {
    "accelerator": "GPU",
    "colab": {
      "name": "albert.ipynb",
      "provenance": [],
      "collapsed_sections": [],
      "toc_visible": true
    },
    "kernelspec": {
      "display_name": "Python 3",
      "language": "python",
      "name": "python3"
    },
    "language_info": {
      "codemirror_mode": {
        "name": "ipython",
        "version": 3
      },
      "file_extension": ".py",
      "mimetype": "text/x-python",
      "name": "python",
      "nbconvert_exporter": "python",
      "pygments_lexer": "ipython3",
      "version": "3.6.4"
    },
    "widgets": {
      "application/vnd.jupyter.widget-state+json": {
        "9c24c5edc43a4b70be19eae786a6c74a": {
          "model_module": "@jupyter-widgets/controls",
          "model_name": "HBoxModel",
          "state": {
            "_view_name": "HBoxView",
            "_dom_classes": [],
            "_model_name": "HBoxModel",
            "_view_module": "@jupyter-widgets/controls",
            "_model_module_version": "1.5.0",
            "_view_count": null,
            "_view_module_version": "1.5.0",
            "box_style": "",
            "layout": "IPY_MODEL_586c913c7ae44975b90154c8d172a33d",
            "_model_module": "@jupyter-widgets/controls",
            "children": [
              "IPY_MODEL_7702fd7044ab4198b14f9512c6c838c5",
              "IPY_MODEL_a6985fa2b30f42699a5ad60719ebda0e"
            ]
          }
        },
        "586c913c7ae44975b90154c8d172a33d": {
          "model_module": "@jupyter-widgets/base",
          "model_name": "LayoutModel",
          "state": {
            "_view_name": "LayoutView",
            "grid_template_rows": null,
            "right": null,
            "justify_content": null,
            "_view_module": "@jupyter-widgets/base",
            "overflow": null,
            "_model_module_version": "1.2.0",
            "_view_count": null,
            "flex_flow": null,
            "width": null,
            "min_width": null,
            "border": null,
            "align_items": null,
            "bottom": null,
            "_model_module": "@jupyter-widgets/base",
            "top": null,
            "grid_column": null,
            "overflow_y": null,
            "overflow_x": null,
            "grid_auto_flow": null,
            "grid_area": null,
            "grid_template_columns": null,
            "flex": null,
            "_model_name": "LayoutModel",
            "justify_items": null,
            "grid_row": null,
            "max_height": null,
            "align_content": null,
            "visibility": null,
            "align_self": null,
            "height": null,
            "min_height": null,
            "padding": null,
            "grid_auto_rows": null,
            "grid_gap": null,
            "max_width": null,
            "order": null,
            "_view_module_version": "1.2.0",
            "grid_template_areas": null,
            "object_position": null,
            "object_fit": null,
            "grid_auto_columns": null,
            "margin": null,
            "display": null,
            "left": null
          }
        },
        "7702fd7044ab4198b14f9512c6c838c5": {
          "model_module": "@jupyter-widgets/controls",
          "model_name": "FloatProgressModel",
          "state": {
            "_view_name": "ProgressView",
            "style": "IPY_MODEL_46ab48f3b0da4a77a83613c7d9ed388b",
            "_dom_classes": [],
            "description": "Downloading: 100%",
            "_model_name": "FloatProgressModel",
            "bar_style": "success",
            "max": 760289,
            "_view_module": "@jupyter-widgets/controls",
            "_model_module_version": "1.5.0",
            "value": 760289,
            "_view_count": null,
            "_view_module_version": "1.5.0",
            "orientation": "horizontal",
            "min": 0,
            "description_tooltip": null,
            "_model_module": "@jupyter-widgets/controls",
            "layout": "IPY_MODEL_c779272e136e4b47834a078508ec7323"
          }
        },
        "a6985fa2b30f42699a5ad60719ebda0e": {
          "model_module": "@jupyter-widgets/controls",
          "model_name": "HTMLModel",
          "state": {
            "_view_name": "HTMLView",
            "style": "IPY_MODEL_894bc71d0c424fc6b9345dd328b06970",
            "_dom_classes": [],
            "description": "",
            "_model_name": "HTMLModel",
            "placeholder": "​",
            "_view_module": "@jupyter-widgets/controls",
            "_model_module_version": "1.5.0",
            "value": " 760k/760k [00:00&lt;00:00, 5.64MB/s]",
            "_view_count": null,
            "_view_module_version": "1.5.0",
            "description_tooltip": null,
            "_model_module": "@jupyter-widgets/controls",
            "layout": "IPY_MODEL_57bdff15d5c8414f97e44e3d5d29c28e"
          }
        },
        "46ab48f3b0da4a77a83613c7d9ed388b": {
          "model_module": "@jupyter-widgets/controls",
          "model_name": "ProgressStyleModel",
          "state": {
            "_view_name": "StyleView",
            "_model_name": "ProgressStyleModel",
            "description_width": "initial",
            "_view_module": "@jupyter-widgets/base",
            "_model_module_version": "1.5.0",
            "_view_count": null,
            "_view_module_version": "1.2.0",
            "bar_color": null,
            "_model_module": "@jupyter-widgets/controls"
          }
        },
        "c779272e136e4b47834a078508ec7323": {
          "model_module": "@jupyter-widgets/base",
          "model_name": "LayoutModel",
          "state": {
            "_view_name": "LayoutView",
            "grid_template_rows": null,
            "right": null,
            "justify_content": null,
            "_view_module": "@jupyter-widgets/base",
            "overflow": null,
            "_model_module_version": "1.2.0",
            "_view_count": null,
            "flex_flow": null,
            "width": null,
            "min_width": null,
            "border": null,
            "align_items": null,
            "bottom": null,
            "_model_module": "@jupyter-widgets/base",
            "top": null,
            "grid_column": null,
            "overflow_y": null,
            "overflow_x": null,
            "grid_auto_flow": null,
            "grid_area": null,
            "grid_template_columns": null,
            "flex": null,
            "_model_name": "LayoutModel",
            "justify_items": null,
            "grid_row": null,
            "max_height": null,
            "align_content": null,
            "visibility": null,
            "align_self": null,
            "height": null,
            "min_height": null,
            "padding": null,
            "grid_auto_rows": null,
            "grid_gap": null,
            "max_width": null,
            "order": null,
            "_view_module_version": "1.2.0",
            "grid_template_areas": null,
            "object_position": null,
            "object_fit": null,
            "grid_auto_columns": null,
            "margin": null,
            "display": null,
            "left": null
          }
        },
        "894bc71d0c424fc6b9345dd328b06970": {
          "model_module": "@jupyter-widgets/controls",
          "model_name": "DescriptionStyleModel",
          "state": {
            "_view_name": "StyleView",
            "_model_name": "DescriptionStyleModel",
            "description_width": "",
            "_view_module": "@jupyter-widgets/base",
            "_model_module_version": "1.5.0",
            "_view_count": null,
            "_view_module_version": "1.2.0",
            "_model_module": "@jupyter-widgets/controls"
          }
        },
        "57bdff15d5c8414f97e44e3d5d29c28e": {
          "model_module": "@jupyter-widgets/base",
          "model_name": "LayoutModel",
          "state": {
            "_view_name": "LayoutView",
            "grid_template_rows": null,
            "right": null,
            "justify_content": null,
            "_view_module": "@jupyter-widgets/base",
            "overflow": null,
            "_model_module_version": "1.2.0",
            "_view_count": null,
            "flex_flow": null,
            "width": null,
            "min_width": null,
            "border": null,
            "align_items": null,
            "bottom": null,
            "_model_module": "@jupyter-widgets/base",
            "top": null,
            "grid_column": null,
            "overflow_y": null,
            "overflow_x": null,
            "grid_auto_flow": null,
            "grid_area": null,
            "grid_template_columns": null,
            "flex": null,
            "_model_name": "LayoutModel",
            "justify_items": null,
            "grid_row": null,
            "max_height": null,
            "align_content": null,
            "visibility": null,
            "align_self": null,
            "height": null,
            "min_height": null,
            "padding": null,
            "grid_auto_rows": null,
            "grid_gap": null,
            "max_width": null,
            "order": null,
            "_view_module_version": "1.2.0",
            "grid_template_areas": null,
            "object_position": null,
            "object_fit": null,
            "grid_auto_columns": null,
            "margin": null,
            "display": null,
            "left": null
          }
        }
      }
    }
  },
  "cells": [
    {
      "cell_type": "markdown",
      "metadata": {
        "id": "L63toc6Ift3i"
      },
      "source": [
        "# Twitter Sarcasm Detection\n",
        "Our project aims to classify Tweet responses as sarcasm or not sarcasm.\n",
        "\n",
        "Dataset Source:\n",
        "\n",
        "\n",
        "*   \"Classification Competition\" from CS410 at UIUC\n",
        "*   https://github.com/CS410Fall2020/ClassificationCompetition\n",
        "\n"
      ]
    },
    {
      "cell_type": "markdown",
      "metadata": {
        "id": "CkOsnQPd9BqG"
      },
      "source": [
        "### Setup Google Drive\n",
        "\n",
        "Google Drive is utilized in order to make use of the GPU and improve efficiency."
      ]
    },
    {
      "cell_type": "code",
      "metadata": {
        "id": "wOsKIIIkh5pB",
        "colab": {
          "base_uri": "https://localhost:8080/"
        },
        "outputId": "481a443c-54d2-41f7-e733-a5e26465a598"
      },
      "source": [
        "from google.colab import drive\n",
        "drive.mount('/content/drive')"
      ],
      "execution_count": 1,
      "outputs": [
        {
          "output_type": "stream",
          "text": [
            "Mounted at /content/drive\n"
          ],
          "name": "stdout"
        }
      ]
    },
    {
      "cell_type": "code",
      "metadata": {
        "colab": {
          "base_uri": "https://localhost:8080/"
        },
        "id": "QTxAdAmYiPY7",
        "outputId": "d66bda9b-10c3-4ddd-bb61-1c9dd87e4092"
      },
      "source": [
        "%cd /content/drive/My Drive/Colab Notebooks/TextClassification"
      ],
      "execution_count": 2,
      "outputs": [
        {
          "output_type": "stream",
          "text": [
            "/content/drive/My Drive/Colab Notebooks/TextClassification\n"
          ],
          "name": "stdout"
        }
      ]
    },
    {
      "cell_type": "code",
      "metadata": {
        "colab": {
          "base_uri": "https://localhost:8080/"
        },
        "id": "yn-mG1rMiiMY",
        "outputId": "0db54817-d003-43de-d19c-07634670d798"
      },
      "source": [
        "!pip install pytorch-transformers\n",
        "!pip install transformers==3"
      ],
      "execution_count": 3,
      "outputs": [
        {
          "output_type": "stream",
          "text": [
            "Collecting pytorch-transformers\n",
            "\u001b[?25l  Downloading https://files.pythonhosted.org/packages/a3/b7/d3d18008a67e0b968d1ab93ad444fc05699403fa662f634b2f2c318a508b/pytorch_transformers-1.2.0-py3-none-any.whl (176kB)\n",
            "\r\u001b[K     |█▉                              | 10kB 23.7MB/s eta 0:00:01\r\u001b[K     |███▊                            | 20kB 28.0MB/s eta 0:00:01\r\u001b[K     |█████▋                          | 30kB 25.1MB/s eta 0:00:01\r\u001b[K     |███████▍                        | 40kB 21.1MB/s eta 0:00:01\r\u001b[K     |█████████▎                      | 51kB 22.0MB/s eta 0:00:01\r\u001b[K     |███████████▏                    | 61kB 16.3MB/s eta 0:00:01\r\u001b[K     |█████████████                   | 71kB 15.7MB/s eta 0:00:01\r\u001b[K     |██████████████▉                 | 81kB 15.3MB/s eta 0:00:01\r\u001b[K     |████████████████▊               | 92kB 14.9MB/s eta 0:00:01\r\u001b[K     |██████████████████▋             | 102kB 15.7MB/s eta 0:00:01\r\u001b[K     |████████████████████▍           | 112kB 15.7MB/s eta 0:00:01\r\u001b[K     |██████████████████████▎         | 122kB 15.7MB/s eta 0:00:01\r\u001b[K     |████████████████████████▏       | 133kB 15.7MB/s eta 0:00:01\r\u001b[K     |██████████████████████████      | 143kB 15.7MB/s eta 0:00:01\r\u001b[K     |███████████████████████████▉    | 153kB 15.7MB/s eta 0:00:01\r\u001b[K     |█████████████████████████████▊  | 163kB 15.7MB/s eta 0:00:01\r\u001b[K     |███████████████████████████████▋| 174kB 15.7MB/s eta 0:00:01\r\u001b[K     |████████████████████████████████| 184kB 15.7MB/s \n",
            "\u001b[?25hRequirement already satisfied: tqdm in /usr/local/lib/python3.6/dist-packages (from pytorch-transformers) (4.41.1)\n",
            "Requirement already satisfied: regex in /usr/local/lib/python3.6/dist-packages (from pytorch-transformers) (2019.12.20)\n",
            "Requirement already satisfied: torch>=1.0.0 in /usr/local/lib/python3.6/dist-packages (from pytorch-transformers) (1.7.0+cu101)\n",
            "Collecting sentencepiece\n",
            "\u001b[?25l  Downloading https://files.pythonhosted.org/packages/e5/2d/6d4ca4bef9a67070fa1cac508606328329152b1df10bdf31fb6e4e727894/sentencepiece-0.1.94-cp36-cp36m-manylinux2014_x86_64.whl (1.1MB)\n",
            "\u001b[K     |████████████████████████████████| 1.1MB 33.9MB/s \n",
            "\u001b[?25hRequirement already satisfied: numpy in /usr/local/lib/python3.6/dist-packages (from pytorch-transformers) (1.18.5)\n",
            "Requirement already satisfied: requests in /usr/local/lib/python3.6/dist-packages (from pytorch-transformers) (2.23.0)\n",
            "Collecting boto3\n",
            "\u001b[?25l  Downloading https://files.pythonhosted.org/packages/87/3e/3a4546165383a5fc9f6f7ba15a261c768aee10662bb06105100d859e8940/boto3-1.16.35-py2.py3-none-any.whl (129kB)\n",
            "\u001b[K     |████████████████████████████████| 133kB 55.9MB/s \n",
            "\u001b[?25hCollecting sacremoses\n",
            "\u001b[?25l  Downloading https://files.pythonhosted.org/packages/7d/34/09d19aff26edcc8eb2a01bed8e98f13a1537005d31e95233fd48216eed10/sacremoses-0.0.43.tar.gz (883kB)\n",
            "\u001b[K     |████████████████████████████████| 890kB 59.4MB/s \n",
            "\u001b[?25hRequirement already satisfied: future in /usr/local/lib/python3.6/dist-packages (from torch>=1.0.0->pytorch-transformers) (0.16.0)\n",
            "Requirement already satisfied: dataclasses in /usr/local/lib/python3.6/dist-packages (from torch>=1.0.0->pytorch-transformers) (0.8)\n",
            "Requirement already satisfied: typing-extensions in /usr/local/lib/python3.6/dist-packages (from torch>=1.0.0->pytorch-transformers) (3.7.4.3)\n",
            "Requirement already satisfied: certifi>=2017.4.17 in /usr/local/lib/python3.6/dist-packages (from requests->pytorch-transformers) (2020.12.5)\n",
            "Requirement already satisfied: urllib3!=1.25.0,!=1.25.1,<1.26,>=1.21.1 in /usr/local/lib/python3.6/dist-packages (from requests->pytorch-transformers) (1.24.3)\n",
            "Requirement already satisfied: chardet<4,>=3.0.2 in /usr/local/lib/python3.6/dist-packages (from requests->pytorch-transformers) (3.0.4)\n",
            "Requirement already satisfied: idna<3,>=2.5 in /usr/local/lib/python3.6/dist-packages (from requests->pytorch-transformers) (2.10)\n",
            "Collecting s3transfer<0.4.0,>=0.3.0\n",
            "\u001b[?25l  Downloading https://files.pythonhosted.org/packages/69/79/e6afb3d8b0b4e96cefbdc690f741d7dd24547ff1f94240c997a26fa908d3/s3transfer-0.3.3-py2.py3-none-any.whl (69kB)\n",
            "\u001b[K     |████████████████████████████████| 71kB 10.6MB/s \n",
            "\u001b[?25hCollecting botocore<1.20.0,>=1.19.35\n",
            "\u001b[?25l  Downloading https://files.pythonhosted.org/packages/cd/f8/d355891fc244cb31ad8a30ce452efbf2b31a48da0239f220a871c54fe829/botocore-1.19.35-py2.py3-none-any.whl (7.1MB)\n",
            "\u001b[K     |████████████████████████████████| 7.1MB 54.2MB/s \n",
            "\u001b[?25hCollecting jmespath<1.0.0,>=0.7.1\n",
            "  Downloading https://files.pythonhosted.org/packages/07/cb/5f001272b6faeb23c1c9e0acc04d48eaaf5c862c17709d20e3469c6e0139/jmespath-0.10.0-py2.py3-none-any.whl\n",
            "Requirement already satisfied: six in /usr/local/lib/python3.6/dist-packages (from sacremoses->pytorch-transformers) (1.15.0)\n",
            "Requirement already satisfied: click in /usr/local/lib/python3.6/dist-packages (from sacremoses->pytorch-transformers) (7.1.2)\n",
            "Requirement already satisfied: joblib in /usr/local/lib/python3.6/dist-packages (from sacremoses->pytorch-transformers) (0.17.0)\n",
            "Requirement already satisfied: python-dateutil<3.0.0,>=2.1 in /usr/local/lib/python3.6/dist-packages (from botocore<1.20.0,>=1.19.35->boto3->pytorch-transformers) (2.8.1)\n",
            "Building wheels for collected packages: sacremoses\n",
            "  Building wheel for sacremoses (setup.py) ... \u001b[?25l\u001b[?25hdone\n",
            "  Created wheel for sacremoses: filename=sacremoses-0.0.43-cp36-none-any.whl size=893261 sha256=b3923e155df80bd634c4efbc2c67b951fd6e88b1df6af9243cb0fcdc534d107d\n",
            "  Stored in directory: /root/.cache/pip/wheels/29/3c/fd/7ce5c3f0666dab31a50123635e6fb5e19ceb42ce38d4e58f45\n",
            "Successfully built sacremoses\n",
            "\u001b[31mERROR: botocore 1.19.35 has requirement urllib3<1.27,>=1.25.4; python_version != \"3.4\", but you'll have urllib3 1.24.3 which is incompatible.\u001b[0m\n",
            "Installing collected packages: sentencepiece, jmespath, botocore, s3transfer, boto3, sacremoses, pytorch-transformers\n",
            "Successfully installed boto3-1.16.35 botocore-1.19.35 jmespath-0.10.0 pytorch-transformers-1.2.0 s3transfer-0.3.3 sacremoses-0.0.43 sentencepiece-0.1.94\n",
            "Collecting transformers==3\n",
            "\u001b[?25l  Downloading https://files.pythonhosted.org/packages/9c/35/1c3f6e62d81f5f0daff1384e6d5e6c5758682a8357ebc765ece2b9def62b/transformers-3.0.0-py3-none-any.whl (754kB)\n",
            "\u001b[K     |████████████████████████████████| 757kB 18.1MB/s \n",
            "\u001b[?25hRequirement already satisfied: dataclasses; python_version < \"3.7\" in /usr/local/lib/python3.6/dist-packages (from transformers==3) (0.8)\n",
            "Requirement already satisfied: regex!=2019.12.17 in /usr/local/lib/python3.6/dist-packages (from transformers==3) (2019.12.20)\n",
            "Collecting tokenizers==0.8.0-rc4\n",
            "\u001b[?25l  Downloading https://files.pythonhosted.org/packages/e8/bd/e5abec46af977c8a1375c1dca7cb1e5b3ec392ef279067af7f6bc50491a0/tokenizers-0.8.0rc4-cp36-cp36m-manylinux1_x86_64.whl (3.0MB)\n",
            "\u001b[K     |████████████████████████████████| 3.0MB 54.6MB/s \n",
            "\u001b[?25hRequirement already satisfied: sacremoses in /usr/local/lib/python3.6/dist-packages (from transformers==3) (0.0.43)\n",
            "Requirement already satisfied: sentencepiece in /usr/local/lib/python3.6/dist-packages (from transformers==3) (0.1.94)\n",
            "Requirement already satisfied: packaging in /usr/local/lib/python3.6/dist-packages (from transformers==3) (20.7)\n",
            "Requirement already satisfied: requests in /usr/local/lib/python3.6/dist-packages (from transformers==3) (2.23.0)\n",
            "Requirement already satisfied: filelock in /usr/local/lib/python3.6/dist-packages (from transformers==3) (3.0.12)\n",
            "Requirement already satisfied: numpy in /usr/local/lib/python3.6/dist-packages (from transformers==3) (1.18.5)\n",
            "Requirement already satisfied: tqdm>=4.27 in /usr/local/lib/python3.6/dist-packages (from transformers==3) (4.41.1)\n",
            "Requirement already satisfied: click in /usr/local/lib/python3.6/dist-packages (from sacremoses->transformers==3) (7.1.2)\n",
            "Requirement already satisfied: six in /usr/local/lib/python3.6/dist-packages (from sacremoses->transformers==3) (1.15.0)\n",
            "Requirement already satisfied: joblib in /usr/local/lib/python3.6/dist-packages (from sacremoses->transformers==3) (0.17.0)\n",
            "Requirement already satisfied: pyparsing>=2.0.2 in /usr/local/lib/python3.6/dist-packages (from packaging->transformers==3) (2.4.7)\n",
            "Requirement already satisfied: certifi>=2017.4.17 in /usr/local/lib/python3.6/dist-packages (from requests->transformers==3) (2020.12.5)\n",
            "Requirement already satisfied: chardet<4,>=3.0.2 in /usr/local/lib/python3.6/dist-packages (from requests->transformers==3) (3.0.4)\n",
            "Requirement already satisfied: idna<3,>=2.5 in /usr/local/lib/python3.6/dist-packages (from requests->transformers==3) (2.10)\n",
            "Requirement already satisfied: urllib3!=1.25.0,!=1.25.1,<1.26,>=1.21.1 in /usr/local/lib/python3.6/dist-packages (from requests->transformers==3) (1.24.3)\n",
            "Installing collected packages: tokenizers, transformers\n",
            "Successfully installed tokenizers-0.8.0rc4 transformers-3.0.0\n"
          ],
          "name": "stdout"
        }
      ]
    },
    {
      "cell_type": "code",
      "metadata": {
        "id": "4wRmUot4iSpW"
      },
      "source": [
        "# Import Libraries for the project\n",
        "from sklearn.metrics import accuracy_score, classification_report, confusion_matrix\n",
        "from sklearn.metrics import precision_recall_fscore_support\n",
        "\n",
        "import seaborn as sns\n",
        "import pandas as pd\n",
        "\n",
        "from sklearn.metrics import accuracy_score, classification_report, confusion_matrix\n",
        "\n",
        "import torch\n",
        "from torchtext.data import Field, TabularDataset, BucketIterator, Iterator\n",
        "from torch.utils.data import DataLoader\n",
        "\n",
        "from transformers import RobertaTokenizer, RobertaModel, AdamW, get_linear_schedule_with_warmup, AlbertTokenizer, AlbertModel\n",
        "\n",
        "import warnings\n",
        "warnings.filterwarnings('ignore')\n",
        "\n",
        "import logging\n",
        "logging.getLogger(\"transformers.tokenization_utils_base\").setLevel(logging.ERROR)\n",
        "\n",
        "import csv"
      ],
      "execution_count": 4,
      "outputs": []
    },
    {
      "cell_type": "code",
      "metadata": {
        "colab": {
          "base_uri": "https://localhost:8080/"
        },
        "id": "zeK8MadvlmA0",
        "outputId": "1818441f-a5cf-4259-eb22-cb2e9ab91574"
      },
      "source": [
        "## Cuda availability\n",
        "print(torch.cuda.is_available())"
      ],
      "execution_count": 5,
      "outputs": [
        {
          "output_type": "stream",
          "text": [
            "True\n"
          ],
          "name": "stdout"
        }
      ]
    },
    {
      "cell_type": "markdown",
      "metadata": {
        "id": "mzY9MGy09mHb"
      },
      "source": [
        "### Read JSONL Data and Preprocessing\n",
        "After the jsonl data is read into a Pandas object, we process the data by adding extra fields."
      ]
    },
    {
      "cell_type": "code",
      "metadata": {
        "id": "E2EuHLHUlmek"
      },
      "source": [
        "train_raw = pd.read_json(\"data/train.jsonl\", lines=True, encoding=\"utf-8\")\n",
        "test_raw = pd.read_json(\"data/test.jsonl\", lines=True, encoding=\"utf-8\")"
      ],
      "execution_count": 6,
      "outputs": []
    },
    {
      "cell_type": "code",
      "metadata": {
        "id": "yk9j2XjHBMRW"
      },
      "source": [
        "train_raw['conext_string'] = train_raw.context.apply(lambda x: ' '.join(x[::-1][:3]))\n",
        "test_raw['conext_string'] = test_raw.context.apply(lambda x: ' '.join(x[::-1][:3]))"
      ],
      "execution_count": 7,
      "outputs": []
    },
    {
      "cell_type": "code",
      "metadata": {
        "colab": {
          "base_uri": "https://localhost:8080/",
          "height": 529
        },
        "id": "foTlkv2rCHoJ",
        "outputId": "c97508e6-61cf-465d-8d11-8fc413e523f3"
      },
      "source": [
        "train_raw.head(10)"
      ],
      "execution_count": 8,
      "outputs": [
        {
          "output_type": "execute_result",
          "data": {
            "text/html": [
              "<div>\n",
              "<style scoped>\n",
              "    .dataframe tbody tr th:only-of-type {\n",
              "        vertical-align: middle;\n",
              "    }\n",
              "\n",
              "    .dataframe tbody tr th {\n",
              "        vertical-align: top;\n",
              "    }\n",
              "\n",
              "    .dataframe thead th {\n",
              "        text-align: right;\n",
              "    }\n",
              "</style>\n",
              "<table border=\"1\" class=\"dataframe\">\n",
              "  <thead>\n",
              "    <tr style=\"text-align: right;\">\n",
              "      <th></th>\n",
              "      <th>label</th>\n",
              "      <th>response</th>\n",
              "      <th>context</th>\n",
              "      <th>conext_string</th>\n",
              "    </tr>\n",
              "  </thead>\n",
              "  <tbody>\n",
              "    <tr>\n",
              "      <th>0</th>\n",
              "      <td>SARCASM</td>\n",
              "      <td>@USER @USER @USER I don't get this .. obviousl...</td>\n",
              "      <td>[A minor child deserves privacy and should be ...</td>\n",
              "      <td>@USER If your child isn't named Barron ... #Be...</td>\n",
              "    </tr>\n",
              "    <tr>\n",
              "      <th>1</th>\n",
              "      <td>SARCASM</td>\n",
              "      <td>@USER @USER trying to protest about . Talking ...</td>\n",
              "      <td>[@USER @USER Why is he a loser ? He's just a P...</td>\n",
              "      <td>@USER @USER having to make up excuses of why y...</td>\n",
              "    </tr>\n",
              "    <tr>\n",
              "      <th>2</th>\n",
              "      <td>SARCASM</td>\n",
              "      <td>@USER @USER @USER He makes an insane about of ...</td>\n",
              "      <td>[Donald J . Trump is guilty as charged . The e...</td>\n",
              "      <td>@USER I ’ ll remember to not support you at th...</td>\n",
              "    </tr>\n",
              "    <tr>\n",
              "      <th>3</th>\n",
              "      <td>SARCASM</td>\n",
              "      <td>@USER @USER Meanwhile Trump won't even release...</td>\n",
              "      <td>[Jamie Raskin tanked Doug Collins . Collins lo...</td>\n",
              "      <td>@USER But not half as stupid as Schiff looks ....</td>\n",
              "    </tr>\n",
              "    <tr>\n",
              "      <th>4</th>\n",
              "      <td>SARCASM</td>\n",
              "      <td>@USER @USER Pretty Sure the Anti-Lincoln Crowd...</td>\n",
              "      <td>[Man ... y ’ all gone “ both sides ” the apoca...</td>\n",
              "      <td>@USER They already did . Obama said many times...</td>\n",
              "    </tr>\n",
              "    <tr>\n",
              "      <th>5</th>\n",
              "      <td>SARCASM</td>\n",
              "      <td>@USER @USER @USER -&gt; per your tag line : never...</td>\n",
              "      <td>[Donald Trump tapped into voters ’ populist sh...</td>\n",
              "      <td>@USER because these privileged white boys are ...</td>\n",
              "    </tr>\n",
              "    <tr>\n",
              "      <th>6</th>\n",
              "      <td>SARCASM</td>\n",
              "      <td>@USER @USER he does ! It excites him then he k...</td>\n",
              "      <td>[@USER @USER Coo-Coo . Keep on supporting fema...</td>\n",
              "      <td>@USER @USER do you masturbate to these videos ...</td>\n",
              "    </tr>\n",
              "    <tr>\n",
              "      <th>7</th>\n",
              "      <td>SARCASM</td>\n",
              "      <td>Oh look , it's the #racist @USER offering soli...</td>\n",
              "      <td>[Hi , I'm Dennis , I'll be looking after lily'...</td>\n",
              "      <td>@USER Dennis please pass on my love and solida...</td>\n",
              "    </tr>\n",
              "    <tr>\n",
              "      <th>8</th>\n",
              "      <td>SARCASM</td>\n",
              "      <td>@USER @USER @USER As they are the biggest bull...</td>\n",
              "      <td>[Tips for children and young people from @USER...</td>\n",
              "      <td>@USER @USER @USER Please forward on to the Soc...</td>\n",
              "    </tr>\n",
              "    <tr>\n",
              "      <th>9</th>\n",
              "      <td>SARCASM</td>\n",
              "      <td>@USER @USER @USER responds to facts by tossing...</td>\n",
              "      <td>[The response of Sanders ' team to his quote f...</td>\n",
              "      <td>@USER Careful , Bernie ’ s supporters get trig...</td>\n",
              "    </tr>\n",
              "  </tbody>\n",
              "</table>\n",
              "</div>"
            ],
            "text/plain": [
              "     label  ...                                      conext_string\n",
              "0  SARCASM  ...  @USER If your child isn't named Barron ... #Be...\n",
              "1  SARCASM  ...  @USER @USER having to make up excuses of why y...\n",
              "2  SARCASM  ...  @USER I ’ ll remember to not support you at th...\n",
              "3  SARCASM  ...  @USER But not half as stupid as Schiff looks ....\n",
              "4  SARCASM  ...  @USER They already did . Obama said many times...\n",
              "5  SARCASM  ...  @USER because these privileged white boys are ...\n",
              "6  SARCASM  ...  @USER @USER do you masturbate to these videos ...\n",
              "7  SARCASM  ...  @USER Dennis please pass on my love and solida...\n",
              "8  SARCASM  ...  @USER @USER @USER Please forward on to the Soc...\n",
              "9  SARCASM  ...  @USER Careful , Bernie ’ s supporters get trig...\n",
              "\n",
              "[10 rows x 4 columns]"
            ]
          },
          "metadata": {
            "tags": []
          },
          "execution_count": 8
        }
      ]
    },
    {
      "cell_type": "code",
      "metadata": {
        "id": "AP2ANyIcDawV"
      },
      "source": [
        "encode_label = {'NOT_SARCASM' : 0, 'SARCASM' : 1}\n",
        "\n",
        "train_raw['target'] = train_raw['label'].map(encode_label)\n",
        "train_raw['all_string'] = train_raw['response'] + \". \" + train_raw['conext_string']\n",
        "test_raw['all_string'] = test_raw['response'] + \". \" + test_raw['conext_string']"
      ],
      "execution_count": 9,
      "outputs": []
    },
    {
      "cell_type": "code",
      "metadata": {
        "id": "rpmliMpOneJX"
      },
      "source": [
        "train_raw['all_string'] = train_raw['all_string'].apply(lambda x: x.lower())\n",
        "test_raw['all_string'] = test_raw['all_string'].apply(lambda x: x.lower())"
      ],
      "execution_count": 10,
      "outputs": []
    },
    {
      "cell_type": "code",
      "metadata": {
        "colab": {
          "base_uri": "https://localhost:8080/",
          "height": 699
        },
        "id": "jOKMf4won0t3",
        "outputId": "a1afbba0-a2f5-44c2-cd89-263c0c5d506a"
      },
      "source": [
        "train_raw.head(10)"
      ],
      "execution_count": 11,
      "outputs": [
        {
          "output_type": "execute_result",
          "data": {
            "text/html": [
              "<div>\n",
              "<style scoped>\n",
              "    .dataframe tbody tr th:only-of-type {\n",
              "        vertical-align: middle;\n",
              "    }\n",
              "\n",
              "    .dataframe tbody tr th {\n",
              "        vertical-align: top;\n",
              "    }\n",
              "\n",
              "    .dataframe thead th {\n",
              "        text-align: right;\n",
              "    }\n",
              "</style>\n",
              "<table border=\"1\" class=\"dataframe\">\n",
              "  <thead>\n",
              "    <tr style=\"text-align: right;\">\n",
              "      <th></th>\n",
              "      <th>label</th>\n",
              "      <th>response</th>\n",
              "      <th>context</th>\n",
              "      <th>conext_string</th>\n",
              "      <th>target</th>\n",
              "      <th>all_string</th>\n",
              "    </tr>\n",
              "  </thead>\n",
              "  <tbody>\n",
              "    <tr>\n",
              "      <th>0</th>\n",
              "      <td>SARCASM</td>\n",
              "      <td>@USER @USER @USER I don't get this .. obviousl...</td>\n",
              "      <td>[A minor child deserves privacy and should be ...</td>\n",
              "      <td>@USER If your child isn't named Barron ... #Be...</td>\n",
              "      <td>1</td>\n",
              "      <td>@user @user @user i don't get this .. obviousl...</td>\n",
              "    </tr>\n",
              "    <tr>\n",
              "      <th>1</th>\n",
              "      <td>SARCASM</td>\n",
              "      <td>@USER @USER trying to protest about . Talking ...</td>\n",
              "      <td>[@USER @USER Why is he a loser ? He's just a P...</td>\n",
              "      <td>@USER @USER having to make up excuses of why y...</td>\n",
              "      <td>1</td>\n",
              "      <td>@user @user trying to protest about . talking ...</td>\n",
              "    </tr>\n",
              "    <tr>\n",
              "      <th>2</th>\n",
              "      <td>SARCASM</td>\n",
              "      <td>@USER @USER @USER He makes an insane about of ...</td>\n",
              "      <td>[Donald J . Trump is guilty as charged . The e...</td>\n",
              "      <td>@USER I ’ ll remember to not support you at th...</td>\n",
              "      <td>1</td>\n",
              "      <td>@user @user @user he makes an insane about of ...</td>\n",
              "    </tr>\n",
              "    <tr>\n",
              "      <th>3</th>\n",
              "      <td>SARCASM</td>\n",
              "      <td>@USER @USER Meanwhile Trump won't even release...</td>\n",
              "      <td>[Jamie Raskin tanked Doug Collins . Collins lo...</td>\n",
              "      <td>@USER But not half as stupid as Schiff looks ....</td>\n",
              "      <td>1</td>\n",
              "      <td>@user @user meanwhile trump won't even release...</td>\n",
              "    </tr>\n",
              "    <tr>\n",
              "      <th>4</th>\n",
              "      <td>SARCASM</td>\n",
              "      <td>@USER @USER Pretty Sure the Anti-Lincoln Crowd...</td>\n",
              "      <td>[Man ... y ’ all gone “ both sides ” the apoca...</td>\n",
              "      <td>@USER They already did . Obama said many times...</td>\n",
              "      <td>1</td>\n",
              "      <td>@user @user pretty sure the anti-lincoln crowd...</td>\n",
              "    </tr>\n",
              "    <tr>\n",
              "      <th>5</th>\n",
              "      <td>SARCASM</td>\n",
              "      <td>@USER @USER @USER -&gt; per your tag line : never...</td>\n",
              "      <td>[Donald Trump tapped into voters ’ populist sh...</td>\n",
              "      <td>@USER because these privileged white boys are ...</td>\n",
              "      <td>1</td>\n",
              "      <td>@user @user @user -&gt; per your tag line : never...</td>\n",
              "    </tr>\n",
              "    <tr>\n",
              "      <th>6</th>\n",
              "      <td>SARCASM</td>\n",
              "      <td>@USER @USER he does ! It excites him then he k...</td>\n",
              "      <td>[@USER @USER Coo-Coo . Keep on supporting fema...</td>\n",
              "      <td>@USER @USER do you masturbate to these videos ...</td>\n",
              "      <td>1</td>\n",
              "      <td>@user @user he does ! it excites him then he k...</td>\n",
              "    </tr>\n",
              "    <tr>\n",
              "      <th>7</th>\n",
              "      <td>SARCASM</td>\n",
              "      <td>Oh look , it's the #racist @USER offering soli...</td>\n",
              "      <td>[Hi , I'm Dennis , I'll be looking after lily'...</td>\n",
              "      <td>@USER Dennis please pass on my love and solida...</td>\n",
              "      <td>1</td>\n",
              "      <td>oh look , it's the #racist @user offering soli...</td>\n",
              "    </tr>\n",
              "    <tr>\n",
              "      <th>8</th>\n",
              "      <td>SARCASM</td>\n",
              "      <td>@USER @USER @USER As they are the biggest bull...</td>\n",
              "      <td>[Tips for children and young people from @USER...</td>\n",
              "      <td>@USER @USER @USER Please forward on to the Soc...</td>\n",
              "      <td>1</td>\n",
              "      <td>@user @user @user as they are the biggest bull...</td>\n",
              "    </tr>\n",
              "    <tr>\n",
              "      <th>9</th>\n",
              "      <td>SARCASM</td>\n",
              "      <td>@USER @USER @USER responds to facts by tossing...</td>\n",
              "      <td>[The response of Sanders ' team to his quote f...</td>\n",
              "      <td>@USER Careful , Bernie ’ s supporters get trig...</td>\n",
              "      <td>1</td>\n",
              "      <td>@user @user @user responds to facts by tossing...</td>\n",
              "    </tr>\n",
              "  </tbody>\n",
              "</table>\n",
              "</div>"
            ],
            "text/plain": [
              "     label  ...                                         all_string\n",
              "0  SARCASM  ...  @user @user @user i don't get this .. obviousl...\n",
              "1  SARCASM  ...  @user @user trying to protest about . talking ...\n",
              "2  SARCASM  ...  @user @user @user he makes an insane about of ...\n",
              "3  SARCASM  ...  @user @user meanwhile trump won't even release...\n",
              "4  SARCASM  ...  @user @user pretty sure the anti-lincoln crowd...\n",
              "5  SARCASM  ...  @user @user @user -> per your tag line : never...\n",
              "6  SARCASM  ...  @user @user he does ! it excites him then he k...\n",
              "7  SARCASM  ...  oh look , it's the #racist @user offering soli...\n",
              "8  SARCASM  ...  @user @user @user as they are the biggest bull...\n",
              "9  SARCASM  ...  @user @user @user responds to facts by tossing...\n",
              "\n",
              "[10 rows x 6 columns]"
            ]
          },
          "metadata": {
            "tags": []
          },
          "execution_count": 11
        }
      ]
    },
    {
      "cell_type": "code",
      "metadata": {
        "colab": {
          "base_uri": "https://localhost:8080/",
          "height": 546
        },
        "id": "mbo4t7MMkO6z",
        "outputId": "1f1964d7-56a3-4a67-9ee7-f5d54c4d5f34"
      },
      "source": [
        "test_raw.head(10)"
      ],
      "execution_count": 12,
      "outputs": [
        {
          "output_type": "execute_result",
          "data": {
            "text/html": [
              "<div>\n",
              "<style scoped>\n",
              "    .dataframe tbody tr th:only-of-type {\n",
              "        vertical-align: middle;\n",
              "    }\n",
              "\n",
              "    .dataframe tbody tr th {\n",
              "        vertical-align: top;\n",
              "    }\n",
              "\n",
              "    .dataframe thead th {\n",
              "        text-align: right;\n",
              "    }\n",
              "</style>\n",
              "<table border=\"1\" class=\"dataframe\">\n",
              "  <thead>\n",
              "    <tr style=\"text-align: right;\">\n",
              "      <th></th>\n",
              "      <th>id</th>\n",
              "      <th>response</th>\n",
              "      <th>context</th>\n",
              "      <th>conext_string</th>\n",
              "      <th>all_string</th>\n",
              "    </tr>\n",
              "  </thead>\n",
              "  <tbody>\n",
              "    <tr>\n",
              "      <th>0</th>\n",
              "      <td>twitter_1</td>\n",
              "      <td>@USER @USER @USER My 3 year old , that just fi...</td>\n",
              "      <td>[Well now that ’ s problematic AF &lt;URL&gt;, @USER...</td>\n",
              "      <td>@USER @USER @USER No .. he actually in the gif...</td>\n",
              "      <td>@user @user @user my 3 year old , that just fi...</td>\n",
              "    </tr>\n",
              "    <tr>\n",
              "      <th>1</th>\n",
              "      <td>twitter_2</td>\n",
              "      <td>@USER @USER How many verifiable lies has he to...</td>\n",
              "      <td>[Last week the Fake News said that a section o...</td>\n",
              "      <td>@USER The mainstream media doesn't report the ...</td>\n",
              "      <td>@user @user how many verifiable lies has he to...</td>\n",
              "    </tr>\n",
              "    <tr>\n",
              "      <th>2</th>\n",
              "      <td>twitter_3</td>\n",
              "      <td>@USER @USER @USER Maybe Docs just a scrub of a...</td>\n",
              "      <td>[@USER Let ’ s Aplaud Brett When he deserves i...</td>\n",
              "      <td>@USER @USER He did try keep korkmaz in in the ...</td>\n",
              "      <td>@user @user @user maybe docs just a scrub of a...</td>\n",
              "    </tr>\n",
              "    <tr>\n",
              "      <th>3</th>\n",
              "      <td>twitter_4</td>\n",
              "      <td>@USER @USER is just a cover up for the real ha...</td>\n",
              "      <td>[Women generally hate this president . What's ...</td>\n",
              "      <td>@USER I've hated him before he was placed in o...</td>\n",
              "      <td>@user @user is just a cover up for the real ha...</td>\n",
              "    </tr>\n",
              "    <tr>\n",
              "      <th>4</th>\n",
              "      <td>twitter_5</td>\n",
              "      <td>@USER @USER @USER The irony being that he even...</td>\n",
              "      <td>[Dear media Remoaners , you excitedly sharing ...</td>\n",
              "      <td>@USER @USER Quite an articulate and considered...</td>\n",
              "      <td>@user @user @user the irony being that he even...</td>\n",
              "    </tr>\n",
              "    <tr>\n",
              "      <th>5</th>\n",
              "      <td>twitter_6</td>\n",
              "      <td>@USER @USER Doesn't matter . Those guys weren'...</td>\n",
              "      <td>[Wilt Chamberlain rejects the skyhook twice in...</td>\n",
              "      <td>@USER plus he ’ s around 34 years old at that ...</td>\n",
              "      <td>@user @user doesn't matter . those guys weren'...</td>\n",
              "    </tr>\n",
              "    <tr>\n",
              "      <th>6</th>\n",
              "      <td>twitter_7</td>\n",
              "      <td>@USER @USER @USER So , my #kindnesscascade are...</td>\n",
              "      <td>[I want to start something magical . I don ’ t...</td>\n",
              "      <td>@USER @USER @USER It really was . I'm packing ...</td>\n",
              "      <td>@user @user @user so , my #kindnesscascade are...</td>\n",
              "    </tr>\n",
              "    <tr>\n",
              "      <th>7</th>\n",
              "      <td>twitter_8</td>\n",
              "      <td>@USER @USER @USER They need to be an MSP to be...</td>\n",
              "      <td>[He ’ s finished . If true this is grooming an...</td>\n",
              "      <td>@USER @USER I think it will be Cherry &amp; I susp...</td>\n",
              "      <td>@user @user @user they need to be an msp to be...</td>\n",
              "    </tr>\n",
              "    <tr>\n",
              "      <th>8</th>\n",
              "      <td>twitter_9</td>\n",
              "      <td>@USER @USER @USER In which Constitution is it ...</td>\n",
              "      <td>[Now students can ’ t bring stones in librarie...</td>\n",
              "      <td>@USER this one ? @USER aap to bahut logical ha...</td>\n",
              "      <td>@user @user @user in which constitution is it ...</td>\n",
              "    </tr>\n",
              "    <tr>\n",
              "      <th>9</th>\n",
              "      <td>twitter_10</td>\n",
              "      <td>@USER @USER ... he says while the GOP is overw...</td>\n",
              "      <td>[One of these things is not like the others . ...</td>\n",
              "      <td>@USER It's more diverse than the Democratic de...</td>\n",
              "      <td>@user @user ... he says while the gop is overw...</td>\n",
              "    </tr>\n",
              "  </tbody>\n",
              "</table>\n",
              "</div>"
            ],
            "text/plain": [
              "           id  ...                                         all_string\n",
              "0   twitter_1  ...  @user @user @user my 3 year old , that just fi...\n",
              "1   twitter_2  ...  @user @user how many verifiable lies has he to...\n",
              "2   twitter_3  ...  @user @user @user maybe docs just a scrub of a...\n",
              "3   twitter_4  ...  @user @user is just a cover up for the real ha...\n",
              "4   twitter_5  ...  @user @user @user the irony being that he even...\n",
              "5   twitter_6  ...  @user @user doesn't matter . those guys weren'...\n",
              "6   twitter_7  ...  @user @user @user so , my #kindnesscascade are...\n",
              "7   twitter_8  ...  @user @user @user they need to be an msp to be...\n",
              "8   twitter_9  ...  @user @user @user in which constitution is it ...\n",
              "9  twitter_10  ...  @user @user ... he says while the gop is overw...\n",
              "\n",
              "[10 rows x 5 columns]"
            ]
          },
          "metadata": {
            "tags": []
          },
          "execution_count": 12
        }
      ]
    },
    {
      "cell_type": "code",
      "metadata": {
        "id": "rrPyTg8rJkW2"
      },
      "source": [
        "train_raw.to_csv(\"data/train_new.csv\")\n",
        "test_raw.to_csv(\"data/test_new.csv\")"
      ],
      "execution_count": 13,
      "outputs": []
    },
    {
      "cell_type": "markdown",
      "metadata": {
        "id": "aMm7uOVDzrvA"
      },
      "source": [
        "reference：\n",
        "https://towardsdatascience.com/fine-tuning-bert-and-roberta-for-high-accuracy-text-classification-in-pytorch-c9e63cf64646\n",
        "https://github.com/aramakus/ML-and-Data-Analysis/blob/master/RoBERTa%20for%20text%20classification.ipynb"
      ]
    },
    {
      "cell_type": "code",
      "metadata": {
        "colab": {
          "base_uri": "https://localhost:8080/"
        },
        "id": "67jzmJvzoE2y",
        "outputId": "5ad202aa-395c-4fe3-a269-9a15b13cf69a"
      },
      "source": [
        "# CHANGED\n",
        "torch.manual_seed(17)\n",
        "\n",
        "# Use cuda if available\n",
        "device = torch.device(\"cuda:0\" if torch.cuda.is_available() else \"cpu\")\n",
        "\n",
        "print(device)"
      ],
      "execution_count": 14,
      "outputs": [
        {
          "output_type": "stream",
          "text": [
            "cuda:0\n"
          ],
          "name": "stdout"
        }
      ]
    },
    {
      "cell_type": "markdown",
      "metadata": {
        "id": "L9L1SvZo-Xel"
      },
      "source": [
        "### Create Dataset & Iterators\n",
        "Using the preprocessed text data, we create datasets and iterators to send batches of text data for the training process of the model."
      ]
    },
    {
      "cell_type": "code",
      "metadata": {
        "id": "iHoN5FGVI4Fz",
        "colab": {
          "base_uri": "https://localhost:8080/",
          "height": 66,
          "referenced_widgets": [
            "9c24c5edc43a4b70be19eae786a6c74a",
            "586c913c7ae44975b90154c8d172a33d",
            "7702fd7044ab4198b14f9512c6c838c5",
            "a6985fa2b30f42699a5ad60719ebda0e",
            "46ab48f3b0da4a77a83613c7d9ed388b",
            "c779272e136e4b47834a078508ec7323",
            "894bc71d0c424fc6b9345dd328b06970",
            "57bdff15d5c8414f97e44e3d5d29c28e"
          ]
        },
        "outputId": "1ad41557-03fe-48af-958e-790ad9874f93"
      },
      "source": [
        "# Use the pretrained tokenizer to append padding tokens to each sequence\n",
        "tokenizer = AlbertTokenizer.from_pretrained(\"albert-base-v1\")\n",
        "\n",
        "# Set hyperparameters\n",
        "pad = tokenizer.convert_tokens_to_ids(tokenizer.pad_token)\n",
        "unk = tokenizer.convert_tokens_to_ids(tokenizer.unk_token)\n",
        "seq_len = 256\n",
        "size_of_batch = 16\n",
        "\n",
        "# Readable columns\n",
        "text_field = Field(use_vocab=False, \n",
        "                   tokenize=tokenizer.encode, \n",
        "                   include_lengths=False, \n",
        "                   batch_first=True,\n",
        "                   fix_length=seq_len, \n",
        "                   pad_token=pad, \n",
        "                   unk_token=unk)\n",
        "label_field = Field(sequential=False, use_vocab=False, batch_first=True)\n",
        "\n",
        "allstring_tuple = ('all_string', text_field)\n",
        "target_tuple = ('target', label_field)\n",
        "\n",
        "fields = {'all_string' : allstring_tuple, 'target' : target_tuple}\n",
        "\n",
        "\n",
        "train_data, valid_data = TabularDataset(path=\"data/train_new.csv\", \n",
        "                                        format='CSV', \n",
        "                                        fields=fields, \n",
        "                                        skip_header=False).split(split_ratio=[0.80, 0.2], \n",
        "                                        stratified=True, \n",
        "                                        strata_field='target')\n",
        "\n",
        "train_iter, valid_iter = BucketIterator.splits((train_data, valid_data),\n",
        "                                               batch_size=size_of_batch,\n",
        "                                               device=device,\n",
        "                                               shuffle=True,\n",
        "                                               sort_key=lambda x: len(x.all_string), \n",
        "                                               sort=True, \n",
        "                                               sort_within_batch=False)\n",
        "id_field = Field(use_vocab=True, sequential=False)\n",
        "fields2 = {'all_string' : allstring_tuple}\n",
        "test_data = TabularDataset(path=\"data/test_new.csv\", format='CSV', \n",
        "                           fields=fields2, skip_header=False)\n",
        "\n",
        "test_iter = Iterator(test_data, batch_size=size_of_batch, device=device, \n",
        "                     train=False, shuffle=False, sort=False)"
      ],
      "execution_count": 16,
      "outputs": [
        {
          "output_type": "display_data",
          "data": {
            "application/vnd.jupyter.widget-view+json": {
              "model_id": "9c24c5edc43a4b70be19eae786a6c74a",
              "version_minor": 0,
              "version_major": 2
            },
            "text/plain": [
              "HBox(children=(FloatProgress(value=0.0, description='Downloading', max=760289.0, style=ProgressStyle(descripti…"
            ]
          },
          "metadata": {
            "tags": []
          }
        },
        {
          "output_type": "stream",
          "text": [
            "\n"
          ],
          "name": "stdout"
        }
      ]
    },
    {
      "cell_type": "markdown",
      "metadata": {
        "id": "nVghVVfA_JTF"
      },
      "source": [
        "### Albert Architecture\n",
        "Here we are using a modified Albert architecture. It provides two parameter reduction techniques to improve memory usage and BERT speed."
      ]
    },
    {
      "cell_type": "code",
      "metadata": {
        "id": "BPPZHtRroV_U"
      },
      "source": [
        "# Albert architecture with additional layers (kept model as is from tutorial)\n",
        "class AlbertClassifier(torch.nn.Module):\n",
        "    def __init__(self, dropout_rate=0.3):\n",
        "        super(AlbertClassifier, self).__init__()\n",
        "        \n",
        "        self.albert = AlbertModel.from_pretrained('albert-base-v1')\n",
        "        self.d1 = torch.nn.Dropout(dropout_rate)\n",
        "        self.l1 = torch.nn.Linear(768, 64)\n",
        "        self.bn1 = torch.nn.LayerNorm(64)\n",
        "        self.d2 = torch.nn.Dropout(dropout_rate)\n",
        "        self.l2 = torch.nn.Linear(64, 2)\n",
        "        \n",
        "    def forward(self, input_ids, attention_mask):\n",
        "        _, x = self.albert(input_ids=input_ids, attention_mask=attention_mask)\n",
        "        x = self.d1(x)\n",
        "        x = self.l1(x)\n",
        "        x = self.bn1(x)\n",
        "        x = torch.nn.ReLU()(x)\n",
        "        x = self.d2(x)\n",
        "        x = self.l2(x)\n",
        "        \n",
        "        return x\n",
        "\n",
        "model_criterion = torch.nn.CrossEntropyLoss()"
      ],
      "execution_count": 35,
      "outputs": []
    },
    {
      "cell_type": "markdown",
      "metadata": {
        "id": "0t1HpDYiGNeV"
      },
      "source": [
        "### Training Function\n",
        "\n",
        "Consists of the function to train the Albert model"
      ]
    },
    {
      "cell_type": "code",
      "metadata": {
        "id": "KPoWt-MkXRAk"
      },
      "source": [
        "# train function for training the model\n",
        "\n",
        "def train(model, criterion, optimizer, training, validation, scheduler, num_epochs, output_path = '/content/drive/My Drive/Colab Notebooks/TextClassification'):\n",
        "    \n",
        "    # Initialize variables\n",
        "    max_loss = float('Inf')\n",
        "    loss_training_list = []\n",
        "    loss_validation_list = []\n",
        "    training_loss = 0.0\n",
        "    validation_loss = 0.0\n",
        "    train_size = len(training)\n",
        "    validation_size = len(validation)\n",
        "    step = 0\n",
        "    step_list = []\n",
        "    model.train()\n",
        "\n",
        "    for epoch in range(num_epochs):\n",
        "        for (source, target), _ in training:\n",
        "            mask = (source != pad).type(torch.uint8)\n",
        "            y_pred = model(input_ids=source, attention_mask=mask)\n",
        "            \n",
        "            loss = criterion(y_pred, target)\n",
        "            loss.backward()\n",
        "\n",
        "            optimizer.step()    \n",
        "            scheduler.step()    \n",
        "            optimizer.zero_grad()\n",
        "            \n",
        "            step += 1\n",
        "            training_loss += loss.item()\n",
        "            if step % train_size == 0:\n",
        "                model.eval()\n",
        "                pred = []\n",
        "                actual = []\n",
        "\n",
        "                with torch.no_grad():                    \n",
        "                    for (source, target), _ in validation:\n",
        "                        mask = (source != pad).type(torch.uint8)\n",
        "                        y_pred = model(input_ids=source, attention_mask=mask)\n",
        "                        \n",
        "                        loss = criterion(y_pred, target)\n",
        "                        validation_loss += loss.item()\n",
        "                        pred.extend(torch.argmax(y_pred, axis=-1).tolist())\n",
        "                        actual.extend(target.tolist())\n",
        "\n",
        "                # Store summary data\n",
        "                step_list.append(step)\n",
        "                training_loss = training_loss / train_size\n",
        "                validation_loss = validation_loss / validation_size\n",
        "                loss_training_list.append(training_loss)\n",
        "                loss_validation_list.append(validation_loss)\n",
        "\n",
        "                # print summary\n",
        "                print('Epoch [{}/{}], global step [{}/{}], Train Loss: {:.4f}, Valid Loss: {:.4f}, precision, recall, f1:'\n",
        "                      .format(epoch+1, num_epochs, step, num_epochs*train_size,\n",
        "                              training_loss, validation_loss), precision_recall_fscore_support(actual, pred, average='macro'))\n",
        "                \n",
        "                if validation_loss < max_loss:\n",
        "                    max_loss = validation_loss\n",
        "                    save_checkpoint(output_path + '/model.pkl', model, max_loss)\n",
        "                        \n",
        "                training_loss = 0.0                \n",
        "                validation_loss = 0.0\n",
        "                model.train()\n",
        "    \n",
        "    print('Training complete')"
      ],
      "execution_count": 32,
      "outputs": []
    },
    {
      "cell_type": "code",
      "metadata": {
        "id": "LLWYRFBkocRr"
      },
      "source": [
        "# Functions for saving and loading checkpoints\n",
        "def save_checkpoint(path, model, validation_loss):\n",
        "    torch.save({'model_state_dict': model.state_dict(), 'validation_loss': validation_loss}, path)\n",
        "\n",
        "    \n",
        "def load_checkpoint(path, model):    \n",
        "    state_dict = torch.load(path, map_location=device)\n",
        "    model.load_state_dict(state_dict['model_state_dict'], strict=False)\n",
        "    return state_dict['validation_loss']"
      ],
      "execution_count": 23,
      "outputs": []
    },
    {
      "cell_type": "code",
      "metadata": {
        "colab": {
          "base_uri": "https://localhost:8080/"
        },
        "id": "AKeI6T76Xv9x",
        "outputId": "e3631d96-160c-4426-cc16-ca6feefaea8c"
      },
      "source": [
        "NUM_EPOCHS = 12\n",
        "steps_per_epoch = len(train_iter)\n",
        "\n",
        "model = AlbertClassifier(0.3)\n",
        "model = model.to(device)\n",
        "\n",
        "print(\"======================= Start training =================================\")\n",
        "\n",
        "optimizer = AdamW(model.parameters(), lr=1e-5)\n",
        "scheduler = get_linear_schedule_with_warmup(optimizer, num_warmup_steps=steps_per_epoch*2, num_training_steps=steps_per_epoch*NUM_EPOCHS)\n",
        "\n",
        "train(model=model, criterion=model_criterion, training=train_iter, validation=valid_iter, optimizer=optimizer, scheduler=scheduler, num_epochs=NUM_EPOCHS)"
      ],
      "execution_count": 36,
      "outputs": [
        {
          "output_type": "stream",
          "text": [
            "======================= Start training =================================\n",
            "Epoch [1/12], global step [250/3000], Train Loss: 0.6812, Valid Loss: 0.7983, precision, recall, f1: (0.25, 0.5, 0.3333333333333333, None)\n",
            "Epoch [2/12], global step [500/3000], Train Loss: 0.6247, Valid Loss: 0.5748, precision, recall, f1: (0.7143180641821947, 0.712, 0.7112191365452183, None)\n",
            "Epoch [3/12], global step [750/3000], Train Loss: 0.5223, Valid Loss: 0.4993, precision, recall, f1: (0.7530819985675359, 0.753, 0.7529799913793017, None)\n",
            "Epoch [4/12], global step [1000/3000], Train Loss: 0.4643, Valid Loss: 0.4756, precision, recall, f1: (0.780448717948718, 0.78, 0.7799119647859143, None)\n",
            "Epoch [5/12], global step [1250/3000], Train Loss: 0.4123, Valid Loss: 0.4980, precision, recall, f1: (0.7733947820653022, 0.773, 0.7729180234064497, None)\n",
            "Epoch [6/12], global step [1500/3000], Train Loss: 0.3546, Valid Loss: 0.5137, precision, recall, f1: (0.7660042560680971, 0.766, 0.765999063996256, None)\n",
            "Epoch [7/12], global step [1750/3000], Train Loss: 0.3009, Valid Loss: 0.5701, precision, recall, f1: (0.765827922077922, 0.762, 0.7611401043757526, None)\n",
            "Epoch [8/12], global step [2000/3000], Train Loss: 0.2569, Valid Loss: 0.5551, precision, recall, f1: (0.7792620223812885, 0.7769999999999999, 0.7765475087051279, None)\n",
            "Epoch [9/12], global step [2250/3000], Train Loss: 0.2263, Valid Loss: 0.5473, precision, recall, f1: (0.7858293075684379, 0.784, 0.7836538461538461, None)\n",
            "Epoch [10/12], global step [2500/3000], Train Loss: 0.1963, Valid Loss: 0.7178, precision, recall, f1: (0.7585246857930742, 0.734, 0.7275382982820573, None)\n",
            "Epoch [11/12], global step [2750/3000], Train Loss: 0.1812, Valid Loss: 0.6816, precision, recall, f1: (0.7806348874849893, 0.758, 0.753019893124972, None)\n",
            "Epoch [12/12], global step [3000/3000], Train Loss: 0.1701, Valid Loss: 0.5838, precision, recall, f1: (0.7838164251207729, 0.782, 0.781650641025641, None)\n",
            "Training complete\n"
          ],
          "name": "stdout"
        }
      ]
    },
    {
      "cell_type": "markdown",
      "metadata": {
        "id": "DePoiLB0GzMx"
      },
      "source": [
        "### Prediction Results\n",
        "\n",
        "Consists of the evaluation function we implemented and how the results are stored in a text file."
      ]
    },
    {
      "cell_type": "code",
      "metadata": {
        "id": "ptmDt8vPj8RO"
      },
      "source": [
        "# Evaluation Function\n",
        "\n",
        "def evaluate(model, test_loader):\n",
        "    y_pred = []\n",
        "\n",
        "    model.eval()\n",
        "    with torch.no_grad():\n",
        "        for (source), _ in test_loader:\n",
        "                mask = (source != pad).type(torch.uint8)\n",
        "                \n",
        "                output = model(source, attention_mask=mask)\n",
        "\n",
        "                y_pred.extend(torch.argmax(output, axis=-1).tolist())\n",
        "\n",
        "    \n",
        "    output = pd.DataFrame()\n",
        "    output['Pred'] = y_pred\n",
        "\n",
        "    return output"
      ],
      "execution_count": 37,
      "outputs": []
    },
    {
      "cell_type": "code",
      "metadata": {
        "id": "b4RzwEzYkA6M"
      },
      "source": [
        "\n",
        "\n",
        "load_checkpoint('/content/drive/My Drive/Colab Notebooks/TextClassification/model.pkl', model)\n",
        "\n",
        "prediction=evaluate(model, test_iter)"
      ],
      "execution_count": 39,
      "outputs": []
    },
    {
      "cell_type": "code",
      "metadata": {
        "id": "8W1p8Ffsj8dg",
        "colab": {
          "base_uri": "https://localhost:8080/",
          "height": 419
        },
        "outputId": "4228a277-5227-4976-d121-7253419c85b1"
      },
      "source": [
        "prediction"
      ],
      "execution_count": 40,
      "outputs": [
        {
          "output_type": "execute_result",
          "data": {
            "text/html": [
              "<div>\n",
              "<style scoped>\n",
              "    .dataframe tbody tr th:only-of-type {\n",
              "        vertical-align: middle;\n",
              "    }\n",
              "\n",
              "    .dataframe tbody tr th {\n",
              "        vertical-align: top;\n",
              "    }\n",
              "\n",
              "    .dataframe thead th {\n",
              "        text-align: right;\n",
              "    }\n",
              "</style>\n",
              "<table border=\"1\" class=\"dataframe\">\n",
              "  <thead>\n",
              "    <tr style=\"text-align: right;\">\n",
              "      <th></th>\n",
              "      <th>Pred</th>\n",
              "    </tr>\n",
              "  </thead>\n",
              "  <tbody>\n",
              "    <tr>\n",
              "      <th>0</th>\n",
              "      <td>1</td>\n",
              "    </tr>\n",
              "    <tr>\n",
              "      <th>1</th>\n",
              "      <td>1</td>\n",
              "    </tr>\n",
              "    <tr>\n",
              "      <th>2</th>\n",
              "      <td>1</td>\n",
              "    </tr>\n",
              "    <tr>\n",
              "      <th>3</th>\n",
              "      <td>1</td>\n",
              "    </tr>\n",
              "    <tr>\n",
              "      <th>4</th>\n",
              "      <td>1</td>\n",
              "    </tr>\n",
              "    <tr>\n",
              "      <th>...</th>\n",
              "      <td>...</td>\n",
              "    </tr>\n",
              "    <tr>\n",
              "      <th>1795</th>\n",
              "      <td>1</td>\n",
              "    </tr>\n",
              "    <tr>\n",
              "      <th>1796</th>\n",
              "      <td>1</td>\n",
              "    </tr>\n",
              "    <tr>\n",
              "      <th>1797</th>\n",
              "      <td>1</td>\n",
              "    </tr>\n",
              "    <tr>\n",
              "      <th>1798</th>\n",
              "      <td>0</td>\n",
              "    </tr>\n",
              "    <tr>\n",
              "      <th>1799</th>\n",
              "      <td>0</td>\n",
              "    </tr>\n",
              "  </tbody>\n",
              "</table>\n",
              "<p>1800 rows × 1 columns</p>\n",
              "</div>"
            ],
            "text/plain": [
              "      Pred\n",
              "0        1\n",
              "1        1\n",
              "2        1\n",
              "3        1\n",
              "4        1\n",
              "...    ...\n",
              "1795     1\n",
              "1796     1\n",
              "1797     1\n",
              "1798     0\n",
              "1799     0\n",
              "\n",
              "[1800 rows x 1 columns]"
            ]
          },
          "metadata": {
            "tags": []
          },
          "execution_count": 40
        }
      ]
    },
    {
      "cell_type": "code",
      "metadata": {
        "id": "CwcPz-BLqILZ"
      },
      "source": [
        "encode_label = {0 : 'NOT_SARCASM', 1 : 'SARCASM'}\n",
        "\n",
        "test_raw['Pred']=prediction['Pred'].map(encode_label)\n",
        "test_raw[['id', 'Pred']].to_csv('answer.txt', header=None, index=None, sep=',', quoting=csv.QUOTE_NONE, escapechar = ' ')"
      ],
      "execution_count": 41,
      "outputs": []
    }
  ]
}