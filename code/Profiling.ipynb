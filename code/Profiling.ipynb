{
  "nbformat": 4,
  "nbformat_minor": 0,
  "metadata": {
    "colab": {
      "name": "Profiling.ipynb",
      "provenance": [],
      "collapsed_sections": []
    },
    "kernelspec": {
      "name": "python3",
      "display_name": "Python 3"
    },
    "accelerator": "GPU"
  },
  "cells": [
    {
      "cell_type": "code",
      "metadata": {
        "id": "wOsKIIIkh5pB",
        "colab": {
          "base_uri": "https://localhost:8080/"
        },
        "outputId": "9d9ac3fc-ae1e-4084-97eb-f11f28cba9d8"
      },
      "source": [
        "from google.colab import drive\n",
        "drive.mount('/content/drive')"
      ],
      "execution_count": null,
      "outputs": [
        {
          "output_type": "stream",
          "text": [
            "Mounted at /content/drive\n"
          ],
          "name": "stdout"
        }
      ]
    },
    {
      "cell_type": "code",
      "metadata": {
        "colab": {
          "base_uri": "https://localhost:8080/"
        },
        "id": "QTxAdAmYiPY7",
        "outputId": "a43c0707-1a10-4325-cb2f-411d3343b7d6"
      },
      "source": [
        "%cd /content/drive/My Drive/Colab Notebooks/TextClassification"
      ],
      "execution_count": null,
      "outputs": [
        {
          "output_type": "stream",
          "text": [
            "/content/drive/My Drive/Colab Notebooks/TextClassification\n"
          ],
          "name": "stdout"
        }
      ]
    },
    {
      "cell_type": "code",
      "metadata": {
        "id": "4wRmUot4iSpW"
      },
      "source": [
        "import pandas as pd\n",
        "import csv\n",
        "\n",
        "import matplotlib.pyplot as plt\n",
        "%matplotlib inline\n",
        "plt.style.use('ggplot')"
      ],
      "execution_count": null,
      "outputs": []
    },
    {
      "cell_type": "code",
      "metadata": {
        "id": "E2EuHLHUlmek"
      },
      "source": [
        "train_raw = pd.read_json(\"data/train.jsonl\", lines=True, encoding=\"utf-8\")\n",
        "test_raw = pd.read_json(\"data/test.jsonl\", lines=True, encoding=\"utf-8\")"
      ],
      "execution_count": null,
      "outputs": []
    },
    {
      "cell_type": "code",
      "metadata": {
        "colab": {
          "base_uri": "https://localhost:8080/",
          "height": 195
        },
        "id": "mN5g1tSEjit2",
        "outputId": "4c06b353-51c6-43ea-a28a-047f256b8bba"
      },
      "source": [
        "train_raw.head()"
      ],
      "execution_count": null,
      "outputs": [
        {
          "output_type": "execute_result",
          "data": {
            "text/html": [
              "<div>\n",
              "<style scoped>\n",
              "    .dataframe tbody tr th:only-of-type {\n",
              "        vertical-align: middle;\n",
              "    }\n",
              "\n",
              "    .dataframe tbody tr th {\n",
              "        vertical-align: top;\n",
              "    }\n",
              "\n",
              "    .dataframe thead th {\n",
              "        text-align: right;\n",
              "    }\n",
              "</style>\n",
              "<table border=\"1\" class=\"dataframe\">\n",
              "  <thead>\n",
              "    <tr style=\"text-align: right;\">\n",
              "      <th></th>\n",
              "      <th>label</th>\n",
              "      <th>response</th>\n",
              "      <th>context</th>\n",
              "    </tr>\n",
              "  </thead>\n",
              "  <tbody>\n",
              "    <tr>\n",
              "      <th>0</th>\n",
              "      <td>SARCASM</td>\n",
              "      <td>@USER @USER @USER I don't get this .. obviousl...</td>\n",
              "      <td>[A minor child deserves privacy and should be ...</td>\n",
              "    </tr>\n",
              "    <tr>\n",
              "      <th>1</th>\n",
              "      <td>SARCASM</td>\n",
              "      <td>@USER @USER trying to protest about . Talking ...</td>\n",
              "      <td>[@USER @USER Why is he a loser ? He's just a P...</td>\n",
              "    </tr>\n",
              "    <tr>\n",
              "      <th>2</th>\n",
              "      <td>SARCASM</td>\n",
              "      <td>@USER @USER @USER He makes an insane about of ...</td>\n",
              "      <td>[Donald J . Trump is guilty as charged . The e...</td>\n",
              "    </tr>\n",
              "    <tr>\n",
              "      <th>3</th>\n",
              "      <td>SARCASM</td>\n",
              "      <td>@USER @USER Meanwhile Trump won't even release...</td>\n",
              "      <td>[Jamie Raskin tanked Doug Collins . Collins lo...</td>\n",
              "    </tr>\n",
              "    <tr>\n",
              "      <th>4</th>\n",
              "      <td>SARCASM</td>\n",
              "      <td>@USER @USER Pretty Sure the Anti-Lincoln Crowd...</td>\n",
              "      <td>[Man ... y ’ all gone “ both sides ” the apoca...</td>\n",
              "    </tr>\n",
              "  </tbody>\n",
              "</table>\n",
              "</div>"
            ],
            "text/plain": [
              "     label  ...                                            context\n",
              "0  SARCASM  ...  [A minor child deserves privacy and should be ...\n",
              "1  SARCASM  ...  [@USER @USER Why is he a loser ? He's just a P...\n",
              "2  SARCASM  ...  [Donald J . Trump is guilty as charged . The e...\n",
              "3  SARCASM  ...  [Jamie Raskin tanked Doug Collins . Collins lo...\n",
              "4  SARCASM  ...  [Man ... y ’ all gone “ both sides ” the apoca...\n",
              "\n",
              "[5 rows x 3 columns]"
            ]
          },
          "metadata": {
            "tags": []
          },
          "execution_count": 8
        }
      ]
    },
    {
      "cell_type": "code",
      "metadata": {
        "colab": {
          "base_uri": "https://localhost:8080/",
          "height": 136
        },
        "id": "bRapgemfjZNh",
        "outputId": "10f1259c-6a54-48a6-c014-4c8ba58f84fd"
      },
      "source": [
        "train_raw.groupby('label').count()"
      ],
      "execution_count": null,
      "outputs": [
        {
          "output_type": "execute_result",
          "data": {
            "text/html": [
              "<div>\n",
              "<style scoped>\n",
              "    .dataframe tbody tr th:only-of-type {\n",
              "        vertical-align: middle;\n",
              "    }\n",
              "\n",
              "    .dataframe tbody tr th {\n",
              "        vertical-align: top;\n",
              "    }\n",
              "\n",
              "    .dataframe thead th {\n",
              "        text-align: right;\n",
              "    }\n",
              "</style>\n",
              "<table border=\"1\" class=\"dataframe\">\n",
              "  <thead>\n",
              "    <tr style=\"text-align: right;\">\n",
              "      <th></th>\n",
              "      <th>response</th>\n",
              "      <th>context</th>\n",
              "    </tr>\n",
              "    <tr>\n",
              "      <th>label</th>\n",
              "      <th></th>\n",
              "      <th></th>\n",
              "    </tr>\n",
              "  </thead>\n",
              "  <tbody>\n",
              "    <tr>\n",
              "      <th>NOT_SARCASM</th>\n",
              "      <td>2500</td>\n",
              "      <td>2500</td>\n",
              "    </tr>\n",
              "    <tr>\n",
              "      <th>SARCASM</th>\n",
              "      <td>2500</td>\n",
              "      <td>2500</td>\n",
              "    </tr>\n",
              "  </tbody>\n",
              "</table>\n",
              "</div>"
            ],
            "text/plain": [
              "             response  context\n",
              "label                         \n",
              "NOT_SARCASM      2500     2500\n",
              "SARCASM          2500     2500"
            ]
          },
          "metadata": {
            "tags": []
          },
          "execution_count": 7
        }
      ]
    },
    {
      "cell_type": "code",
      "metadata": {
        "id": "1R4Fn5wvjhsM"
      },
      "source": [
        "train_raw['response_length'] = train_raw['response'].apply(lambda x: len(x))\r\n",
        "train_raw['context_count'] = train_raw['context'].apply(lambda x: len(x))\r\n",
        "test_raw['response_length'] = test_raw['response'].apply(lambda x: len(x))\r\n",
        "test_raw['context_count'] = test_raw['context'].apply(lambda x: len(x))"
      ],
      "execution_count": null,
      "outputs": []
    },
    {
      "cell_type": "code",
      "metadata": {
        "colab": {
          "base_uri": "https://localhost:8080/",
          "height": 711
        },
        "id": "AAzy6IJ9lPeN",
        "outputId": "69efeed3-3cb6-4088-d559-a49c366595f9"
      },
      "source": [
        "plt.rcParams['figure.figsize'] = (10, 8)\r\n",
        "plt.title(\"Training Dataset: response text length distribution\")\r\n",
        "plt.hist(train_raw.response_length, bins=list(range(0, 400, 10)), density=True)"
      ],
      "execution_count": null,
      "outputs": [
        {
          "output_type": "execute_result",
          "data": {
            "text/plain": [
              "(array([0.000e+00, 0.000e+00, 0.000e+00, 4.000e-05, 9.800e-04, 2.580e-03,\n",
              "        5.460e-03, 6.320e-03, 7.860e-03, 9.040e-03, 9.540e-03, 1.072e-02,\n",
              "        1.090e-02, 5.100e-03, 2.780e-03, 2.640e-03, 2.140e-03, 2.080e-03,\n",
              "        1.760e-03, 1.560e-03, 1.740e-03, 1.760e-03, 1.500e-03, 1.240e-03,\n",
              "        1.460e-03, 2.080e-03, 1.700e-03, 2.440e-03, 2.460e-03, 1.660e-03,\n",
              "        4.000e-04, 6.000e-05, 0.000e+00, 0.000e+00, 0.000e+00, 0.000e+00,\n",
              "        0.000e+00, 0.000e+00, 0.000e+00]),\n",
              " array([  0,  10,  20,  30,  40,  50,  60,  70,  80,  90, 100, 110, 120,\n",
              "        130, 140, 150, 160, 170, 180, 190, 200, 210, 220, 230, 240, 250,\n",
              "        260, 270, 280, 290, 300, 310, 320, 330, 340, 350, 360, 370, 380,\n",
              "        390]),\n",
              " <a list of 39 Patch objects>)"
            ]
          },
          "metadata": {
            "tags": []
          },
          "execution_count": 6
        },
        {
          "output_type": "display_data",
          "data": {
            "image/png": "[encoded data removed]",
            "text/plain": [
              "<Figure size 720x576 with 1 Axes>"
            ]
          },
          "metadata": {
            "tags": []
          }
        }
      ]
    },
    {
      "cell_type": "code",
      "metadata": {
        "colab": {
          "base_uri": "https://localhost:8080/"
        },
        "id": "ibzX87200nIR",
        "outputId": "4c55953e-c6cb-4d05-c3f4-fe5a68ba8763"
      },
      "source": [
        "train_raw.response_length.quantile([x / 10.0 for x in range(1, 10)])"
      ],
      "execution_count": null,
      "outputs": [
        {
          "output_type": "execute_result",
          "data": {
            "text/plain": [
              "0.1     71.0\n",
              "0.2     85.8\n",
              "0.3     97.0\n",
              "0.4    108.0\n",
              "0.5    117.0\n",
              "0.6    126.0\n",
              "0.7    145.0\n",
              "0.8    190.0\n",
              "0.9    254.0\n",
              "Name: response_length, dtype: float64"
            ]
          },
          "metadata": {
            "tags": []
          },
          "execution_count": 19
        }
      ]
    },
    {
      "cell_type": "code",
      "metadata": {
        "colab": {
          "base_uri": "https://localhost:8080/",
          "height": 764
        },
        "id": "7tGpswuQqw8K",
        "outputId": "999f2b10-4fc5-43fe-dd1c-a1cb89ad38d6"
      },
      "source": [
        "plt.rcParams['figure.figsize'] = (10, 8)\r\n",
        "plt.title(\"Testing Dataset: response text length distribution\")\r\n",
        "plt.hist(test_raw.response_length, bins=list(range(0, 400, 10)), density=True)"
      ],
      "execution_count": null,
      "outputs": [
        {
          "output_type": "execute_result",
          "data": {
            "text/plain": [
              "(array([0.00000000e+00, 0.00000000e+00, 0.00000000e+00, 7.22222222e-04,\n",
              "        3.16666667e-03, 6.16666667e-03, 6.22222222e-03, 5.94444444e-03,\n",
              "        6.27777778e-03, 6.05555556e-03, 6.83333333e-03, 4.77777778e-03,\n",
              "        4.88888889e-03, 4.38888889e-03, 4.55555556e-03, 4.55555556e-03,\n",
              "        3.44444444e-03, 3.55555556e-03, 2.94444444e-03, 1.77777778e-03,\n",
              "        2.22222222e-03, 2.66666667e-03, 2.11111111e-03, 1.77777778e-03,\n",
              "        1.72222222e-03, 2.00000000e-03, 2.11111111e-03, 2.61111111e-03,\n",
              "        3.66666667e-03, 2.11111111e-03, 6.66666667e-04, 5.55555556e-05,\n",
              "        0.00000000e+00, 0.00000000e+00, 0.00000000e+00, 0.00000000e+00,\n",
              "        0.00000000e+00, 0.00000000e+00, 0.00000000e+00]),\n",
              " array([  0,  10,  20,  30,  40,  50,  60,  70,  80,  90, 100, 110, 120,\n",
              "        130, 140, 150, 160, 170, 180, 190, 200, 210, 220, 230, 240, 250,\n",
              "        260, 270, 280, 290, 300, 310, 320, 330, 340, 350, 360, 370, 380,\n",
              "        390]),\n",
              " <a list of 39 Patch objects>)"
            ]
          },
          "metadata": {
            "tags": []
          },
          "execution_count": 16
        },
        {
          "output_type": "display_data",
          "data": {
            "image/png": "[encoded data removed]",
            "text/plain": [
              "<Figure size 720x576 with 1 Axes>"
            ]
          },
          "metadata": {
            "tags": []
          }
        }
      ]
    },
    {
      "cell_type": "code",
      "metadata": {
        "colab": {
          "base_uri": "https://localhost:8080/"
        },
        "id": "4s0_4xsH1pkV",
        "outputId": "1e245ae0-b106-46e2-d708-998fc222c1a0"
      },
      "source": [
        "test_raw.response_length.quantile([x / 10.0 for x in range(1, 10)])"
      ],
      "execution_count": null,
      "outputs": [
        {
          "output_type": "execute_result",
          "data": {
            "text/plain": [
              "0.1     59.0\n",
              "0.2     76.0\n",
              "0.3     92.0\n",
              "0.4    108.0\n",
              "0.5    127.0\n",
              "0.6    149.4\n",
              "0.7    176.0\n",
              "0.8    214.0\n",
              "0.9    265.0\n",
              "Name: response_length, dtype: float64"
            ]
          },
          "metadata": {
            "tags": []
          },
          "execution_count": 20
        }
      ]
    },
    {
      "cell_type": "code",
      "metadata": {
        "colab": {
          "base_uri": "https://localhost:8080/",
          "height": 623
        },
        "id": "t6izhFSdm7I1",
        "outputId": "9c252dc2-6e3a-463c-827b-a8fab87e9684"
      },
      "source": [
        "plt.rcParams['figure.figsize'] = (10, 8)\r\n",
        "plt.title(\"Training Dataset: number of context distribution\")\r\n",
        "plt.hist(train_raw.context_count, bins=list(range(0, 30)), density=True)"
      ],
      "execution_count": null,
      "outputs": [
        {
          "output_type": "execute_result",
          "data": {
            "text/plain": [
              "(array([0.    , 0.    , 0.4832, 0.19  , 0.0964, 0.0636, 0.0402, 0.0276,\n",
              "        0.0184, 0.0158, 0.0128, 0.0078, 0.0066, 0.0056, 0.0062, 0.0044,\n",
              "        0.0044, 0.0044, 0.0042, 0.0046, 0.0038, 0.    , 0.    , 0.    ,\n",
              "        0.    , 0.    , 0.    , 0.    , 0.    ]),\n",
              " array([ 0,  1,  2,  3,  4,  5,  6,  7,  8,  9, 10, 11, 12, 13, 14, 15, 16,\n",
              "        17, 18, 19, 20, 21, 22, 23, 24, 25, 26, 27, 28, 29]),\n",
              " <a list of 29 Patch objects>)"
            ]
          },
          "metadata": {
            "tags": []
          },
          "execution_count": 22
        },
        {
          "output_type": "display_data",
          "data": {
            "image/png": "[encoded data removed]",
            "text/plain": [
              "<Figure size 720x576 with 1 Axes>"
            ]
          },
          "metadata": {
            "tags": []
          }
        }
      ]
    },
    {
      "cell_type": "code",
      "metadata": {
        "colab": {
          "base_uri": "https://localhost:8080/",
          "height": 658
        },
        "id": "2LB6JWM5qtOR",
        "outputId": "7bfcdfcf-0a6a-4467-af45-415aef021c48"
      },
      "source": [
        "plt.rcParams['figure.figsize'] = (10, 8)\r\n",
        "plt.title(\"Testing Dataset: number of context distribution\")\r\n",
        "plt.hist(test_raw.context_count, bins=list(range(0, 30)), density=True)"
      ],
      "execution_count": null,
      "outputs": [
        {
          "output_type": "execute_result",
          "data": {
            "text/plain": [
              "(array([0.        , 0.        , 0.52333333, 0.22388889, 0.10444444,\n",
              "        0.05555556, 0.03055556, 0.02277778, 0.00944444, 0.00944444,\n",
              "        0.00444444, 0.00611111, 0.00444444, 0.00166667, 0.00166667,\n",
              "        0.00055556, 0.        , 0.00111111, 0.00055556, 0.        ,\n",
              "        0.        , 0.        , 0.        , 0.        , 0.        ,\n",
              "        0.        , 0.        , 0.        , 0.        ]),\n",
              " array([ 0,  1,  2,  3,  4,  5,  6,  7,  8,  9, 10, 11, 12, 13, 14, 15, 16,\n",
              "        17, 18, 19, 20, 21, 22, 23, 24, 25, 26, 27, 28, 29]),\n",
              " <a list of 29 Patch objects>)"
            ]
          },
          "metadata": {
            "tags": []
          },
          "execution_count": 23
        },
        {
          "output_type": "display_data",
          "data": {
            "image/png": "[encoded data removed]",
            "text/plain": [
              "<Figure size 720x576 with 1 Axes>"
            ]
          },
          "metadata": {
            "tags": []
          }
        }
      ]
    },
    {
      "cell_type": "code",
      "metadata": {
        "colab": {
          "base_uri": "https://localhost:8080/",
          "height": 639
        },
        "id": "GJ7uUY5knutM",
        "outputId": "b357c28b-16bf-4bb5-876a-0d2ccbcfa181"
      },
      "source": [
        "context_check=train_raw.groupby(['context_count']).count()\r\n",
        "context_check['cum_sum']=context_check['label'].cumsum()\r\n",
        "context_check['cum_pct']=context_check['cum_sum'] / context_check['label'].sum()\r\n",
        "context_check"
      ],
      "execution_count": null,
      "outputs": [
        {
          "output_type": "execute_result",
          "data": {
            "text/html": [
              "<div>\n",
              "<style scoped>\n",
              "    .dataframe tbody tr th:only-of-type {\n",
              "        vertical-align: middle;\n",
              "    }\n",
              "\n",
              "    .dataframe tbody tr th {\n",
              "        vertical-align: top;\n",
              "    }\n",
              "\n",
              "    .dataframe thead th {\n",
              "        text-align: right;\n",
              "    }\n",
              "</style>\n",
              "<table border=\"1\" class=\"dataframe\">\n",
              "  <thead>\n",
              "    <tr style=\"text-align: right;\">\n",
              "      <th></th>\n",
              "      <th>label</th>\n",
              "      <th>response</th>\n",
              "      <th>context</th>\n",
              "      <th>response_length</th>\n",
              "      <th>cum_sum</th>\n",
              "      <th>cum_pct</th>\n",
              "    </tr>\n",
              "    <tr>\n",
              "      <th>context_count</th>\n",
              "      <th></th>\n",
              "      <th></th>\n",
              "      <th></th>\n",
              "      <th></th>\n",
              "      <th></th>\n",
              "      <th></th>\n",
              "    </tr>\n",
              "  </thead>\n",
              "  <tbody>\n",
              "    <tr>\n",
              "      <th>2</th>\n",
              "      <td>2416</td>\n",
              "      <td>2416</td>\n",
              "      <td>2416</td>\n",
              "      <td>2416</td>\n",
              "      <td>2416</td>\n",
              "      <td>0.4832</td>\n",
              "    </tr>\n",
              "    <tr>\n",
              "      <th>3</th>\n",
              "      <td>950</td>\n",
              "      <td>950</td>\n",
              "      <td>950</td>\n",
              "      <td>950</td>\n",
              "      <td>3366</td>\n",
              "      <td>0.6732</td>\n",
              "    </tr>\n",
              "    <tr>\n",
              "      <th>4</th>\n",
              "      <td>482</td>\n",
              "      <td>482</td>\n",
              "      <td>482</td>\n",
              "      <td>482</td>\n",
              "      <td>3848</td>\n",
              "      <td>0.7696</td>\n",
              "    </tr>\n",
              "    <tr>\n",
              "      <th>5</th>\n",
              "      <td>318</td>\n",
              "      <td>318</td>\n",
              "      <td>318</td>\n",
              "      <td>318</td>\n",
              "      <td>4166</td>\n",
              "      <td>0.8332</td>\n",
              "    </tr>\n",
              "    <tr>\n",
              "      <th>6</th>\n",
              "      <td>201</td>\n",
              "      <td>201</td>\n",
              "      <td>201</td>\n",
              "      <td>201</td>\n",
              "      <td>4367</td>\n",
              "      <td>0.8734</td>\n",
              "    </tr>\n",
              "    <tr>\n",
              "      <th>7</th>\n",
              "      <td>138</td>\n",
              "      <td>138</td>\n",
              "      <td>138</td>\n",
              "      <td>138</td>\n",
              "      <td>4505</td>\n",
              "      <td>0.9010</td>\n",
              "    </tr>\n",
              "    <tr>\n",
              "      <th>8</th>\n",
              "      <td>92</td>\n",
              "      <td>92</td>\n",
              "      <td>92</td>\n",
              "      <td>92</td>\n",
              "      <td>4597</td>\n",
              "      <td>0.9194</td>\n",
              "    </tr>\n",
              "    <tr>\n",
              "      <th>9</th>\n",
              "      <td>79</td>\n",
              "      <td>79</td>\n",
              "      <td>79</td>\n",
              "      <td>79</td>\n",
              "      <td>4676</td>\n",
              "      <td>0.9352</td>\n",
              "    </tr>\n",
              "    <tr>\n",
              "      <th>10</th>\n",
              "      <td>64</td>\n",
              "      <td>64</td>\n",
              "      <td>64</td>\n",
              "      <td>64</td>\n",
              "      <td>4740</td>\n",
              "      <td>0.9480</td>\n",
              "    </tr>\n",
              "    <tr>\n",
              "      <th>11</th>\n",
              "      <td>39</td>\n",
              "      <td>39</td>\n",
              "      <td>39</td>\n",
              "      <td>39</td>\n",
              "      <td>4779</td>\n",
              "      <td>0.9558</td>\n",
              "    </tr>\n",
              "    <tr>\n",
              "      <th>12</th>\n",
              "      <td>33</td>\n",
              "      <td>33</td>\n",
              "      <td>33</td>\n",
              "      <td>33</td>\n",
              "      <td>4812</td>\n",
              "      <td>0.9624</td>\n",
              "    </tr>\n",
              "    <tr>\n",
              "      <th>13</th>\n",
              "      <td>28</td>\n",
              "      <td>28</td>\n",
              "      <td>28</td>\n",
              "      <td>28</td>\n",
              "      <td>4840</td>\n",
              "      <td>0.9680</td>\n",
              "    </tr>\n",
              "    <tr>\n",
              "      <th>14</th>\n",
              "      <td>31</td>\n",
              "      <td>31</td>\n",
              "      <td>31</td>\n",
              "      <td>31</td>\n",
              "      <td>4871</td>\n",
              "      <td>0.9742</td>\n",
              "    </tr>\n",
              "    <tr>\n",
              "      <th>15</th>\n",
              "      <td>22</td>\n",
              "      <td>22</td>\n",
              "      <td>22</td>\n",
              "      <td>22</td>\n",
              "      <td>4893</td>\n",
              "      <td>0.9786</td>\n",
              "    </tr>\n",
              "    <tr>\n",
              "      <th>16</th>\n",
              "      <td>22</td>\n",
              "      <td>22</td>\n",
              "      <td>22</td>\n",
              "      <td>22</td>\n",
              "      <td>4915</td>\n",
              "      <td>0.9830</td>\n",
              "    </tr>\n",
              "    <tr>\n",
              "      <th>17</th>\n",
              "      <td>22</td>\n",
              "      <td>22</td>\n",
              "      <td>22</td>\n",
              "      <td>22</td>\n",
              "      <td>4937</td>\n",
              "      <td>0.9874</td>\n",
              "    </tr>\n",
              "    <tr>\n",
              "      <th>18</th>\n",
              "      <td>21</td>\n",
              "      <td>21</td>\n",
              "      <td>21</td>\n",
              "      <td>21</td>\n",
              "      <td>4958</td>\n",
              "      <td>0.9916</td>\n",
              "    </tr>\n",
              "    <tr>\n",
              "      <th>19</th>\n",
              "      <td>23</td>\n",
              "      <td>23</td>\n",
              "      <td>23</td>\n",
              "      <td>23</td>\n",
              "      <td>4981</td>\n",
              "      <td>0.9962</td>\n",
              "    </tr>\n",
              "    <tr>\n",
              "      <th>20</th>\n",
              "      <td>19</td>\n",
              "      <td>19</td>\n",
              "      <td>19</td>\n",
              "      <td>19</td>\n",
              "      <td>5000</td>\n",
              "      <td>1.0000</td>\n",
              "    </tr>\n",
              "  </tbody>\n",
              "</table>\n",
              "</div>"
            ],
            "text/plain": [
              "               label  response  context  response_length  cum_sum  cum_pct\n",
              "context_count                                                             \n",
              "2               2416      2416     2416             2416     2416   0.4832\n",
              "3                950       950      950              950     3366   0.6732\n",
              "4                482       482      482              482     3848   0.7696\n",
              "5                318       318      318              318     4166   0.8332\n",
              "6                201       201      201              201     4367   0.8734\n",
              "7                138       138      138              138     4505   0.9010\n",
              "8                 92        92       92               92     4597   0.9194\n",
              "9                 79        79       79               79     4676   0.9352\n",
              "10                64        64       64               64     4740   0.9480\n",
              "11                39        39       39               39     4779   0.9558\n",
              "12                33        33       33               33     4812   0.9624\n",
              "13                28        28       28               28     4840   0.9680\n",
              "14                31        31       31               31     4871   0.9742\n",
              "15                22        22       22               22     4893   0.9786\n",
              "16                22        22       22               22     4915   0.9830\n",
              "17                22        22       22               22     4937   0.9874\n",
              "18                21        21       21               21     4958   0.9916\n",
              "19                23        23       23               23     4981   0.9962\n",
              "20                19        19       19               19     5000   1.0000"
            ]
          },
          "metadata": {
            "tags": []
          },
          "execution_count": 70
        }
      ]
    },
    {
      "cell_type": "code",
      "metadata": {
        "colab": {
          "base_uri": "https://localhost:8080/"
        },
        "id": "xRznFjTWsOLA",
        "outputId": "1f6f35b6-94f6-4769-e9ef-eb4b9375e084"
      },
      "source": [
        "print(train_raw['context_count'].mean())"
      ],
      "execution_count": null,
      "outputs": [
        {
          "output_type": "stream",
          "text": [
            "3.8666\n"
          ],
          "name": "stdout"
        }
      ]
    },
    {
      "cell_type": "code",
      "metadata": {
        "colab": {
          "base_uri": "https://localhost:8080/",
          "height": 550
        },
        "id": "6gv_BCQnrTnR",
        "outputId": "31ed700f-b015-4749-ca8d-bf52e7e170de"
      },
      "source": [
        "context_check=test_raw.groupby(['context_count']).count()\r\n",
        "context_check['cum_sum']=context_check['id'].cumsum()\r\n",
        "context_check['cum_pct']=context_check['cum_sum'] / context_check['id'].sum()\r\n",
        "context_check"
      ],
      "execution_count": null,
      "outputs": [
        {
          "output_type": "execute_result",
          "data": {
            "text/html": [
              "<div>\n",
              "<style scoped>\n",
              "    .dataframe tbody tr th:only-of-type {\n",
              "        vertical-align: middle;\n",
              "    }\n",
              "\n",
              "    .dataframe tbody tr th {\n",
              "        vertical-align: top;\n",
              "    }\n",
              "\n",
              "    .dataframe thead th {\n",
              "        text-align: right;\n",
              "    }\n",
              "</style>\n",
              "<table border=\"1\" class=\"dataframe\">\n",
              "  <thead>\n",
              "    <tr style=\"text-align: right;\">\n",
              "      <th></th>\n",
              "      <th>id</th>\n",
              "      <th>response</th>\n",
              "      <th>context</th>\n",
              "      <th>response_length</th>\n",
              "      <th>cum_sum</th>\n",
              "      <th>cum_pct</th>\n",
              "    </tr>\n",
              "    <tr>\n",
              "      <th>context_count</th>\n",
              "      <th></th>\n",
              "      <th></th>\n",
              "      <th></th>\n",
              "      <th></th>\n",
              "      <th></th>\n",
              "      <th></th>\n",
              "    </tr>\n",
              "  </thead>\n",
              "  <tbody>\n",
              "    <tr>\n",
              "      <th>2</th>\n",
              "      <td>942</td>\n",
              "      <td>942</td>\n",
              "      <td>942</td>\n",
              "      <td>942</td>\n",
              "      <td>942</td>\n",
              "      <td>0.523333</td>\n",
              "    </tr>\n",
              "    <tr>\n",
              "      <th>3</th>\n",
              "      <td>403</td>\n",
              "      <td>403</td>\n",
              "      <td>403</td>\n",
              "      <td>403</td>\n",
              "      <td>1345</td>\n",
              "      <td>0.747222</td>\n",
              "    </tr>\n",
              "    <tr>\n",
              "      <th>4</th>\n",
              "      <td>188</td>\n",
              "      <td>188</td>\n",
              "      <td>188</td>\n",
              "      <td>188</td>\n",
              "      <td>1533</td>\n",
              "      <td>0.851667</td>\n",
              "    </tr>\n",
              "    <tr>\n",
              "      <th>5</th>\n",
              "      <td>100</td>\n",
              "      <td>100</td>\n",
              "      <td>100</td>\n",
              "      <td>100</td>\n",
              "      <td>1633</td>\n",
              "      <td>0.907222</td>\n",
              "    </tr>\n",
              "    <tr>\n",
              "      <th>6</th>\n",
              "      <td>55</td>\n",
              "      <td>55</td>\n",
              "      <td>55</td>\n",
              "      <td>55</td>\n",
              "      <td>1688</td>\n",
              "      <td>0.937778</td>\n",
              "    </tr>\n",
              "    <tr>\n",
              "      <th>7</th>\n",
              "      <td>41</td>\n",
              "      <td>41</td>\n",
              "      <td>41</td>\n",
              "      <td>41</td>\n",
              "      <td>1729</td>\n",
              "      <td>0.960556</td>\n",
              "    </tr>\n",
              "    <tr>\n",
              "      <th>8</th>\n",
              "      <td>17</td>\n",
              "      <td>17</td>\n",
              "      <td>17</td>\n",
              "      <td>17</td>\n",
              "      <td>1746</td>\n",
              "      <td>0.970000</td>\n",
              "    </tr>\n",
              "    <tr>\n",
              "      <th>9</th>\n",
              "      <td>17</td>\n",
              "      <td>17</td>\n",
              "      <td>17</td>\n",
              "      <td>17</td>\n",
              "      <td>1763</td>\n",
              "      <td>0.979444</td>\n",
              "    </tr>\n",
              "    <tr>\n",
              "      <th>10</th>\n",
              "      <td>8</td>\n",
              "      <td>8</td>\n",
              "      <td>8</td>\n",
              "      <td>8</td>\n",
              "      <td>1771</td>\n",
              "      <td>0.983889</td>\n",
              "    </tr>\n",
              "    <tr>\n",
              "      <th>11</th>\n",
              "      <td>11</td>\n",
              "      <td>11</td>\n",
              "      <td>11</td>\n",
              "      <td>11</td>\n",
              "      <td>1782</td>\n",
              "      <td>0.990000</td>\n",
              "    </tr>\n",
              "    <tr>\n",
              "      <th>12</th>\n",
              "      <td>8</td>\n",
              "      <td>8</td>\n",
              "      <td>8</td>\n",
              "      <td>8</td>\n",
              "      <td>1790</td>\n",
              "      <td>0.994444</td>\n",
              "    </tr>\n",
              "    <tr>\n",
              "      <th>13</th>\n",
              "      <td>3</td>\n",
              "      <td>3</td>\n",
              "      <td>3</td>\n",
              "      <td>3</td>\n",
              "      <td>1793</td>\n",
              "      <td>0.996111</td>\n",
              "    </tr>\n",
              "    <tr>\n",
              "      <th>14</th>\n",
              "      <td>3</td>\n",
              "      <td>3</td>\n",
              "      <td>3</td>\n",
              "      <td>3</td>\n",
              "      <td>1796</td>\n",
              "      <td>0.997778</td>\n",
              "    </tr>\n",
              "    <tr>\n",
              "      <th>15</th>\n",
              "      <td>1</td>\n",
              "      <td>1</td>\n",
              "      <td>1</td>\n",
              "      <td>1</td>\n",
              "      <td>1797</td>\n",
              "      <td>0.998333</td>\n",
              "    </tr>\n",
              "    <tr>\n",
              "      <th>17</th>\n",
              "      <td>2</td>\n",
              "      <td>2</td>\n",
              "      <td>2</td>\n",
              "      <td>2</td>\n",
              "      <td>1799</td>\n",
              "      <td>0.999444</td>\n",
              "    </tr>\n",
              "    <tr>\n",
              "      <th>18</th>\n",
              "      <td>1</td>\n",
              "      <td>1</td>\n",
              "      <td>1</td>\n",
              "      <td>1</td>\n",
              "      <td>1800</td>\n",
              "      <td>1.000000</td>\n",
              "    </tr>\n",
              "  </tbody>\n",
              "</table>\n",
              "</div>"
            ],
            "text/plain": [
              "                id  response  context  response_length  cum_sum   cum_pct\n",
              "context_count                                                            \n",
              "2              942       942      942              942      942  0.523333\n",
              "3              403       403      403              403     1345  0.747222\n",
              "4              188       188      188              188     1533  0.851667\n",
              "5              100       100      100              100     1633  0.907222\n",
              "6               55        55       55               55     1688  0.937778\n",
              "7               41        41       41               41     1729  0.960556\n",
              "8               17        17       17               17     1746  0.970000\n",
              "9               17        17       17               17     1763  0.979444\n",
              "10               8         8        8                8     1771  0.983889\n",
              "11              11        11       11               11     1782  0.990000\n",
              "12               8         8        8                8     1790  0.994444\n",
              "13               3         3        3                3     1793  0.996111\n",
              "14               3         3        3                3     1796  0.997778\n",
              "15               1         1        1                1     1797  0.998333\n",
              "17               2         2        2                2     1799  0.999444\n",
              "18               1         1        1                1     1800  1.000000"
            ]
          },
          "metadata": {
            "tags": []
          },
          "execution_count": 72
        }
      ]
    },
    {
      "cell_type": "code",
      "metadata": {
        "id": "JRRGLDXqsPu7",
        "colab": {
          "base_uri": "https://localhost:8080/"
        },
        "outputId": "09fd2175-2a2a-46a6-ae7d-b56f8110376e"
      },
      "source": [
        "print(test_raw['context_count'].mean())"
      ],
      "execution_count": null,
      "outputs": [
        {
          "output_type": "stream",
          "text": [
            "3.1644444444444444\n"
          ],
          "name": "stdout"
        }
      ]
    }
  ]
}